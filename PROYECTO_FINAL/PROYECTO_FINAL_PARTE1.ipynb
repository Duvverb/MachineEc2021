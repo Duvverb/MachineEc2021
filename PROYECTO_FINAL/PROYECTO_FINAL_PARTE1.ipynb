{
  "nbformat": 4,
  "nbformat_minor": 0,
  "metadata": {
    "colab": {
      "name": "PROYECTO_FINAL.ipynb",
      "provenance": []
    },
    "kernelspec": {
      "name": "python3",
      "display_name": "Python 3"
    },
    "language_info": {
      "name": "python"
    }
  },
  "cells": [
    {
      "cell_type": "code",
      "metadata": {
        "id": "yL5wbADqCeAT"
      },
      "source": [
        "import pandas as pd\n",
        "import numpy as np\n",
        "import matplotlib.pyplot as plt\n",
        "import seaborn as sns"
      ],
      "execution_count": 1,
      "outputs": []
    },
    {
      "cell_type": "markdown",
      "metadata": {
        "id": "bW8_gwnzuWLG"
      },
      "source": [
        "Este dataset se extrajo de:\n",
        "\n",
        "https://ubicomp.eti.uni-siegen.de/home/datasets/icmi18/\n",
        "\n",
        "Cuyo proposito es la identificación de episodios de estres en 20 sujetos sometidos a una preuba de aproximadamente 1 hora y 40 minutos donde se registraron el pulso y la frencuencia respiratoria.\n",
        "Despues de un analisis posterior se aagrego al dataset  la variabilidad cardiaca y  los  tiempos entre ondas R_R"
      ]
    },
    {
      "cell_type": "markdown",
      "metadata": {
        "id": "RIIykxNLDZ4h"
      },
      "source": [
        "Cargar la base de datos local del computador al archivo"
      ]
    },
    {
      "cell_type": "code",
      "metadata": {
        "colab": {
          "base_uri": "https://localhost:8080/",
          "height": 419
        },
        "id": "8EdBqOl6DCNu",
        "outputId": "c761eb90-a755-4e82-fc2b-006000302f9c"
      },
      "source": [
        "base_estres = pd.read_excel (\"/content/sample_data/estres.xlsx\",\n",
        "                                    usecols =\"A:f\")\n",
        "                                    #dtype={\"año de nacimiento\":int})\n",
        "base_estres"
      ],
      "execution_count": 13,
      "outputs": [
        {
          "output_type": "execute_result",
          "data": {
            "text/html": [
              "<div>\n",
              "<style scoped>\n",
              "    .dataframe tbody tr th:only-of-type {\n",
              "        vertical-align: middle;\n",
              "    }\n",
              "\n",
              "    .dataframe tbody tr th {\n",
              "        vertical-align: top;\n",
              "    }\n",
              "\n",
              "    .dataframe thead th {\n",
              "        text-align: right;\n",
              "    }\n",
              "</style>\n",
              "<table border=\"1\" class=\"dataframe\">\n",
              "  <thead>\n",
              "    <tr style=\"text-align: right;\">\n",
              "      <th></th>\n",
              "      <th>PULSO</th>\n",
              "      <th>TIEMPOS ONDA R-R</th>\n",
              "      <th>VARIABILIDAD CARDIACA</th>\n",
              "      <th>RESPIRACIONES</th>\n",
              "      <th>PERSONA</th>\n",
              "      <th>ESTRÉS</th>\n",
              "    </tr>\n",
              "  </thead>\n",
              "  <tbody>\n",
              "    <tr>\n",
              "      <th>0</th>\n",
              "      <td>78.333851</td>\n",
              "      <td>0.765952</td>\n",
              "      <td>0.133173</td>\n",
              "      <td>7</td>\n",
              "      <td>1</td>\n",
              "      <td>0</td>\n",
              "    </tr>\n",
              "    <tr>\n",
              "      <th>1</th>\n",
              "      <td>78.427518</td>\n",
              "      <td>0.765038</td>\n",
              "      <td>0.140262</td>\n",
              "      <td>7</td>\n",
              "      <td>1</td>\n",
              "      <td>0</td>\n",
              "    </tr>\n",
              "    <tr>\n",
              "      <th>2</th>\n",
              "      <td>82.805852</td>\n",
              "      <td>0.724586</td>\n",
              "      <td>0.122408</td>\n",
              "      <td>8</td>\n",
              "      <td>1</td>\n",
              "      <td>0</td>\n",
              "    </tr>\n",
              "    <tr>\n",
              "      <th>3</th>\n",
              "      <td>78.962992</td>\n",
              "      <td>0.759850</td>\n",
              "      <td>0.052958</td>\n",
              "      <td>3</td>\n",
              "      <td>1</td>\n",
              "      <td>0</td>\n",
              "    </tr>\n",
              "    <tr>\n",
              "      <th>4</th>\n",
              "      <td>77.142857</td>\n",
              "      <td>0.777778</td>\n",
              "      <td>0.049240</td>\n",
              "      <td>6</td>\n",
              "      <td>1</td>\n",
              "      <td>0</td>\n",
              "    </tr>\n",
              "    <tr>\n",
              "      <th>...</th>\n",
              "      <td>...</td>\n",
              "      <td>...</td>\n",
              "      <td>...</td>\n",
              "      <td>...</td>\n",
              "      <td>...</td>\n",
              "      <td>...</td>\n",
              "    </tr>\n",
              "    <tr>\n",
              "      <th>7260</th>\n",
              "      <td>59.553350</td>\n",
              "      <td>1.007500</td>\n",
              "      <td>0.481996</td>\n",
              "      <td>4</td>\n",
              "      <td>20</td>\n",
              "      <td>1</td>\n",
              "    </tr>\n",
              "    <tr>\n",
              "      <th>7261</th>\n",
              "      <td>72.916667</td>\n",
              "      <td>0.822857</td>\n",
              "      <td>0.317167</td>\n",
              "      <td>4</td>\n",
              "      <td>20</td>\n",
              "      <td>1</td>\n",
              "    </tr>\n",
              "    <tr>\n",
              "      <th>7262</th>\n",
              "      <td>79.966681</td>\n",
              "      <td>0.750313</td>\n",
              "      <td>0.370214</td>\n",
              "      <td>4</td>\n",
              "      <td>20</td>\n",
              "      <td>1</td>\n",
              "    </tr>\n",
              "    <tr>\n",
              "      <th>7263</th>\n",
              "      <td>72.320276</td>\n",
              "      <td>0.829643</td>\n",
              "      <td>0.245219</td>\n",
              "      <td>7</td>\n",
              "      <td>20</td>\n",
              "      <td>1</td>\n",
              "    </tr>\n",
              "    <tr>\n",
              "      <th>7264</th>\n",
              "      <td>68.571429</td>\n",
              "      <td>0.875000</td>\n",
              "      <td>0.203726</td>\n",
              "      <td>3</td>\n",
              "      <td>20</td>\n",
              "      <td>1</td>\n",
              "    </tr>\n",
              "  </tbody>\n",
              "</table>\n",
              "<p>7265 rows × 6 columns</p>\n",
              "</div>"
            ],
            "text/plain": [
              "          PULSO  TIEMPOS ONDA R-R  ...  PERSONA  ESTRÉS\n",
              "0     78.333851          0.765952  ...        1       0\n",
              "1     78.427518          0.765038  ...        1       0\n",
              "2     82.805852          0.724586  ...        1       0\n",
              "3     78.962992          0.759850  ...        1       0\n",
              "4     77.142857          0.777778  ...        1       0\n",
              "...         ...               ...  ...      ...     ...\n",
              "7260  59.553350          1.007500  ...       20       1\n",
              "7261  72.916667          0.822857  ...       20       1\n",
              "7262  79.966681          0.750313  ...       20       1\n",
              "7263  72.320276          0.829643  ...       20       1\n",
              "7264  68.571429          0.875000  ...       20       1\n",
              "\n",
              "[7265 rows x 6 columns]"
            ]
          },
          "metadata": {
            "tags": []
          },
          "execution_count": 13
        }
      ]
    },
    {
      "cell_type": "code",
      "metadata": {
        "colab": {
          "base_uri": "https://localhost:8080/"
        },
        "id": "jmwg_9avDwnB",
        "outputId": "535b1e00-d284-4203-986b-b3cfc98b69d9"
      },
      "source": [
        "#Estadisiticas descriptivas\n",
        "base_estres[\"ESTRÉS\"].count"
      ],
      "execution_count": 14,
      "outputs": [
        {
          "output_type": "execute_result",
          "data": {
            "text/plain": [
              "<bound method Series.count of 0       0\n",
              "1       0\n",
              "2       0\n",
              "3       0\n",
              "4       0\n",
              "       ..\n",
              "7260    1\n",
              "7261    1\n",
              "7262    1\n",
              "7263    1\n",
              "7264    1\n",
              "Name: ESTRÉS, Length: 7265, dtype: int64>"
            ]
          },
          "metadata": {
            "tags": []
          },
          "execution_count": 14
        }
      ]
    },
    {
      "cell_type": "code",
      "metadata": {
        "colab": {
          "base_uri": "https://localhost:8080/"
        },
        "id": "zl9twoflEPVc",
        "outputId": "6e4e137b-4ad6-47fe-9fa6-80fc99a4837b"
      },
      "source": [
        "#Estadisticas descriptivas mean  hallar el promedio de la columna seleccionada\n",
        "bpmprpom=base_estres[\"PULSO\"].mean()\n",
        "trrpom=base_estres[\"TIEMPOS ONDA R-R\"].mean()\n",
        "stdprom=base_estres[\"VARIABILIDAD CARDIACA\"].mean()\n",
        "print('El pulso promedio de todo el registro guardado es:',bpmprpom,'bpm')\n",
        "print('El promedio de los tiempos de las ondas R-R de todo el registro guardado es:',trrpom,'seg')\n",
        "print('El promedio de la  variabilidad cardiaca de todo el registro guardado es:',stdprom)"
      ],
      "execution_count": 15,
      "outputs": [
        {
          "output_type": "stream",
          "text": [
            "El pulso promedio de todo el registro guardado es: 72.36006294278906 bpm\n",
            "El promedio de los tiempos de las ondas R-R de todo el registro guardado es: 0.8382568596847365 seg\n",
            "El promedio de la  variabilidad cardiaca de todo el registro guardado es: 0.08124492121982392\n"
          ],
          "name": "stdout"
        }
      ]
    },
    {
      "cell_type": "code",
      "metadata": {
        "colab": {
          "base_uri": "https://localhost:8080/"
        },
        "id": "B7wqjb_wGk22",
        "outputId": "9973313c-ab1f-43ed-ba97-325f90e8c81d"
      },
      "source": [
        "consulta=base_estres[\"ESTRÉS\"].value_counts()\n",
        "print('El registro indica que en total ahi ',consulta[0],'episodios donde la personas no se encuentran estresadas y',consulta[1],'episodios donde presentan estrés')"
      ],
      "execution_count": 24,
      "outputs": [
        {
          "output_type": "stream",
          "text": [
            "El registro indica que en total ahi  6879 episodios donde la personas no se encuentran estresadas y 386 episodios donde presentan estrés\n"
          ],
          "name": "stdout"
        }
      ]
    },
    {
      "cell_type": "code",
      "metadata": {
        "colab": {
          "base_uri": "https://localhost:8080/"
        },
        "id": "pecxaXTtQTXN",
        "outputId": "a78fb622-da1c-48f9-b45b-43d9d490cd35"
      },
      "source": [
        "\"\"\"\n",
        "Para realizar la consulta especifica de una sola persona, la base de datos tiene 20 pacientes registrados en donde se unen todos los registros de una toma de aproximadamente hora y media en fragmentos de 15 segundos. \n",
        "\"\"\"\n",
        "cantestrespaciente=0;\n",
        "noestres=0;\n",
        "estres_pacientes=[];\n",
        "noestrespacientes=[];\n",
        "for j in range(1,21):\n",
        "  for i in range(0,len(base_estres)):\n",
        "   if(base_estres.values[i][4]==j and base_estres.values[i][5]==1):\n",
        "          cantestrespaciente=cantestrespaciente+1; \n",
        "   if(base_estres.values[i][4]==j and base_estres.values[i][5]==0):\n",
        "    noestres=noestres+1; \n",
        "  print('la cantidad de episodios de estres del paciente #',j,'son:',cantestrespaciente);\n",
        "  estres_pacientes.append(cantestrespaciente);\n",
        "  noestrespacientes.append(noestres);\n",
        "  cantestrespaciente=0;\n",
        "  noestres=0;\n",
        "  estres\n"
      ],
      "execution_count": 39,
      "outputs": [
        {
          "output_type": "stream",
          "text": [
            "la cantidad de episodios de estres del paciente # 1 son: 16\n",
            "la cantidad de episodios de estres del paciente # 2 son: 15\n",
            "la cantidad de episodios de estres del paciente # 3 son: 15\n",
            "la cantidad de episodios de estres del paciente # 4 son: 16\n",
            "la cantidad de episodios de estres del paciente # 5 son: 16\n",
            "la cantidad de episodios de estres del paciente # 6 son: 16\n",
            "la cantidad de episodios de estres del paciente # 7 son: 14\n",
            "la cantidad de episodios de estres del paciente # 8 son: 14\n",
            "la cantidad de episodios de estres del paciente # 9 son: 15\n",
            "la cantidad de episodios de estres del paciente # 10 son: 12\n",
            "la cantidad de episodios de estres del paciente # 11 son: 12\n",
            "la cantidad de episodios de estres del paciente # 12 son: 20\n",
            "la cantidad de episodios de estres del paciente # 13 son: 16\n",
            "la cantidad de episodios de estres del paciente # 14 son: 18\n",
            "la cantidad de episodios de estres del paciente # 15 son: 16\n",
            "la cantidad de episodios de estres del paciente # 16 son: 11\n",
            "la cantidad de episodios de estres del paciente # 17 son: 8\n",
            "la cantidad de episodios de estres del paciente # 18 son: 37\n",
            "la cantidad de episodios de estres del paciente # 19 son: 5\n",
            "la cantidad de episodios de estres del paciente # 20 son: 94\n"
          ],
          "name": "stdout"
        }
      ]
    },
    {
      "cell_type": "code",
      "metadata": {
        "colab": {
          "base_uri": "https://localhost:8080/"
        },
        "id": "cdiDYUlyaRvK",
        "outputId": "bc093ed8-4639-47bf-9f28-15ccd59f6371"
      },
      "source": [
        "len(noestrespacientes)"
      ],
      "execution_count": 46,
      "outputs": [
        {
          "output_type": "execute_result",
          "data": {
            "text/plain": [
              "20"
            ]
          },
          "metadata": {
            "tags": []
          },
          "execution_count": 46
        }
      ]
    },
    {
      "cell_type": "code",
      "metadata": {
        "colab": {
          "base_uri": "https://localhost:8080/"
        },
        "id": "xIJt4SJISohT",
        "outputId": "4ff3c54d-df8c-4dd1-ab54-13cdf993c987"
      },
      "source": [
        "\n",
        "print('EL paciente #',estres_pacientes.index(max(estres_pacientes))+1,'Presento la mayor cantidad de episodios de estres en la prueba')\n",
        "print('EL paciente #',estres_pacientes.index(min(estres_pacientes))+1,'Presento la menor cantidad de episodios de estres en la prueba')"
      ],
      "execution_count": 34,
      "outputs": [
        {
          "output_type": "stream",
          "text": [
            "EL paciente # 20 Presento la mayor cantidad de episodios de estres en la prueba\n",
            "EL paciente # 19 Presento la menor cantidad de episodios de estres en la prueba\n"
          ],
          "name": "stdout"
        }
      ]
    },
    {
      "cell_type": "code",
      "metadata": {
        "colab": {
          "base_uri": "https://localhost:8080/"
        },
        "id": "drubJZZOUAjs",
        "outputId": "85e85026-7fc2-4959-a1f6-3bf1b5660c17"
      },
      "source": [
        "\"\"\"\n",
        "Consulta de variabilidad cardica por persona  indicaria que es más propenso o no a presentar una anomalia cardiaca\n",
        "\"\"\"\n",
        "stdcardiaca=0;\n",
        "std_pacientes=[];\n",
        "h=0;\n",
        "for j in range(1,21):\n",
        "  for i in range(0,len(base_estres)):\n",
        "   if(base_estres.values[i][4]==j):\n",
        "          stdcardiaca=stdcardiaca+base_estres.values[i][2];\n",
        "          h=h+1;\n",
        "\n",
        "  std_pacientes.append(stdcardiaca/h);\n",
        "  print('la  variabilidad cardiaca  promedio del paciente #',j,'es:',(stdcardiaca/h)*100,'%');\n",
        "  stdcardiaca=0;\n",
        "  h=0;"
      ],
      "execution_count": 38,
      "outputs": [
        {
          "output_type": "stream",
          "text": [
            "la  variabilidad cardiaca  promedio del paciente # 1 es: 7.6344095939103225 %\n",
            "la  variabilidad cardiaca  promedio del paciente # 2 es: 7.651115392353051 %\n",
            "la  variabilidad cardiaca  promedio del paciente # 3 es: 7.686311687313702 %\n",
            "la  variabilidad cardiaca  promedio del paciente # 4 es: 7.697832029571269 %\n",
            "la  variabilidad cardiaca  promedio del paciente # 5 es: 7.6219998133334 %\n",
            "la  variabilidad cardiaca  promedio del paciente # 6 es: 7.705996037342361 %\n",
            "la  variabilidad cardiaca  promedio del paciente # 7 es: 7.61704901305311 %\n",
            "la  variabilidad cardiaca  promedio del paciente # 8 es: 7.638255287727564 %\n",
            "la  variabilidad cardiaca  promedio del paciente # 9 es: 7.72914393355668 %\n",
            "la  variabilidad cardiaca  promedio del paciente # 10 es: 7.61107489516194 %\n",
            "la  variabilidad cardiaca  promedio del paciente # 11 es: 7.618966851061923 %\n",
            "la  variabilidad cardiaca  promedio del paciente # 12 es: 7.83308018411244 %\n",
            "la  variabilidad cardiaca  promedio del paciente # 13 es: 7.694879280113341 %\n",
            "la  variabilidad cardiaca  promedio del paciente # 14 es: 7.8370778899518125 %\n",
            "la  variabilidad cardiaca  promedio del paciente # 15 es: 7.81980506144504 %\n",
            "la  variabilidad cardiaca  promedio del paciente # 16 es: 8.110719927055152 %\n",
            "la  variabilidad cardiaca  promedio del paciente # 17 es: 8.273820227261597 %\n",
            "la  variabilidad cardiaca  promedio del paciente # 18 es: 11.822893850542998 %\n",
            "la  variabilidad cardiaca  promedio del paciente # 19 es: 7.663294177779337 %\n",
            "la  variabilidad cardiaca  promedio del paciente # 20 es: 20.89932304332772 %\n"
          ],
          "name": "stdout"
        }
      ]
    },
    {
      "cell_type": "code",
      "metadata": {
        "colab": {
          "base_uri": "https://localhost:8080/",
          "height": 297
        },
        "id": "rWFoNOQaWmEJ",
        "outputId": "2db490ec-6a45-4218-920e-9dd30a0be4d2"
      },
      "source": [
        "labels = ['P1','P2','P3', 'P4','P5','P6','P7','P8','P9','P10','P11','P12','P13','P14','P15','P16','P17','P18','P19','P20'];\n",
        "estres=[estres_pacientes[0],estres_pacientes[1],estres_pacientes[2],estres_pacientes[3],estres_pacientes[4],estres_pacientes[5],estres_pacientes[6],estres_pacientes[7],estres_pacientes[8],estres_pacientes[9],estres_pacientes[10],estres_pacientes[11],estres_pacientes[12],estres_pacientes[13],estres_pacientes[14],estres_pacientes[15],estres_pacientes[16],estres_pacientes[17],estres_pacientes[18],estres_pacientes[19] ]\n",
        "noestres=[noestrespacientes[0],noestrespacientes[1],noestrespacientes[2],noestrespacientes[3],noestrespacientes[4],noestrespacientes[5],noestrespacientes[6],noestrespacientes[7],noestrespacientes[8],noestrespacientes[9],noestrespacientes[10],noestrespacientes[11],noestrespacientes[12],noestrespacientes[13],noestrespacientes[14],noestrespacientes[15],noestrespacientes[16],noestrespacientes[17],noestrespacientes[18],noestrespacientes[19]]                   \n",
        "\n",
        "x = np.arange(len(labels))  # the label locations\n",
        "width = 0.35  # the width of the bars\n",
        "\n",
        "fig, ax = plt.subplots()\n",
        "rects1 = ax.bar(x - width/2, estres, width, label='Episodios de estres')\n",
        "rects2 = ax.bar(x + width/2, noestres, width, label='Episodios de no estres')\n",
        "\n",
        "# Add some text for labels, title and custom x-axis tick labels, etc.\n",
        "ax.set_ylabel('Cantidad de intervalos de 15 segundos')\n",
        "ax.set_title('Resultados de las pruebas de estres en el registro')\n",
        "ax.set_xticks(x)\n",
        "ax.set_xticklabels(labels)\n",
        "ax.legend()\n",
        "\n",
        "fig.tight_layout()\n",
        "\n",
        "plt.show()"
      ],
      "execution_count": 57,
      "outputs": [
        {
          "output_type": "display_data",
          "data": {
            "image/png": "[encoded data removed]",
            "text/plain": [
              "<Figure size 432x288 with 1 Axes>"
            ]
          },
          "metadata": {
            "tags": [],
            "needs_background": "light"
          }
        }
      ]
    },
    {
      "cell_type": "code",
      "metadata": {
        "colab": {
          "base_uri": "https://localhost:8080/",
          "height": 458
        },
        "id": "YuNrJL42b8Kt",
        "outputId": "9c2c1632-fa03-435f-d7ea-fe388f739282"
      },
      "source": [
        "\"\"\"\n",
        "Con la libreria Seaborn\n",
        "\"\"\"\n",
        "\n",
        "data = {'rango':['P1','P2','P3', 'P4','P5','P6','P7','P8','P9','P10','P11','P12','P13','P14','P15','P16','P17','P18','P19','P20'],\n",
        "        'Estrés':[estres_pacientes[0],estres_pacientes[1],estres_pacientes[2],estres_pacientes[3],estres_pacientes[4],estres_pacientes[5],estres_pacientes[6],estres_pacientes[7],estres_pacientes[8],estres_pacientes[9],estres_pacientes[10],estres_pacientes[11],estres_pacientes[12],estres_pacientes[13],estres_pacientes[14],estres_pacientes[15],estres_pacientes[16],estres_pacientes[17],estres_pacientes[18],estres_pacientes[19] ],\n",
        "        'no Estrés':[noestrespacientes[0],noestrespacientes[1],noestrespacientes[2],noestrespacientes[3],noestrespacientes[4],noestrespacientes[5],noestrespacientes[6],noestrespacientes[7],noestrespacientes[8],noestrespacientes[9],noestrespacientes[10],noestrespacientes[11],noestrespacientes[12],noestrespacientes[13],noestrespacientes[14],noestrespacientes[15],noestrespacientes[16],noestrespacientes[17],noestrespacientes[18],noestrespacientes[19]],\n",
        "        }\n",
        "df = pd.DataFrame(data)\n",
        "df\n",
        "\n",
        "g = sns.catplot(\n",
        "    data=df , kind=\"bar\",\n",
        "    x=\"rango\", y=\"Estrés\",\n",
        "    ci=\"sd\", palette=\"dark\", alpha=.6, height=6\n",
        ")\n",
        "g.despine(left=True)\n",
        "g.set_axis_labels(\"\", \"Cantidad de episodios de intervalos de 15 segundos\")\n",
        "g.set_titles(\"Internet a traves de los años\")"
      ],
      "execution_count": 56,
      "outputs": [
        {
          "output_type": "execute_result",
          "data": {
            "text/plain": [
              "<seaborn.axisgrid.FacetGrid at 0x7f9ead90ee10>"
            ]
          },
          "metadata": {
            "tags": []
          },
          "execution_count": 56
        },
        {
          "output_type": "display_data",
          "data": {
            "image/png": "[encoded data removed]",
            "text/plain": [
              "<Figure size 432x432 with 1 Axes>"
            ]
          },
          "metadata": {
            "tags": [],
            "needs_background": "light"
          }
        }
      ]
    },
    {
      "cell_type": "code",
      "metadata": {
        "id": "kQNbjDOTd594"
      },
      "source": [
        ""
      ],
      "execution_count": 104,
      "outputs": []
    },
    {
      "cell_type": "code",
      "metadata": {
        "id": "s2nnz1bSeiEJ"
      },
      "source": [
        ""
      ],
      "execution_count": 95,
      "outputs": []
    }
  ]
}