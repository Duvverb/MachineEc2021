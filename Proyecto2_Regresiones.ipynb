{
  "nbformat": 4,
  "nbformat_minor": 0,
  "metadata": {
    "colab": {
      "name": "Regresiones.ipynb",
      "provenance": [],
      "collapsed_sections": []
    },
    "kernelspec": {
      "name": "python3",
      "display_name": "Python 3"
    },
    "language_info": {
      "name": "python"
    },
    "widgets": {
      "application/vnd.jupyter.widget-state+json": {
        "18ae40a06da0485494a65dd2c529852b": {
          "model_module": "@jupyter-widgets/controls",
          "model_name": "IntSliderModel",
          "state": {
            "_view_name": "IntSliderView",
            "style": "IPY_MODEL_22702960405846188aaa069ea31fcb0d",
            "_dom_classes": [],
            "description": "",
            "step": 1,
            "_model_name": "IntSliderModel",
            "orientation": "horizontal",
            "max": 10,
            "_view_module": "@jupyter-widgets/controls",
            "_model_module_version": "1.5.0",
            "value": 5,
            "_view_count": null,
            "disabled": false,
            "_view_module_version": "1.5.0",
            "min": 2,
            "continuous_update": true,
            "readout_format": "d",
            "description_tooltip": null,
            "readout": true,
            "_model_module": "@jupyter-widgets/controls",
            "layout": "IPY_MODEL_04d7885fe44b4aecbcb1ced9c47823ff"
          }
        },
        "22702960405846188aaa069ea31fcb0d": {
          "model_module": "@jupyter-widgets/controls",
          "model_name": "SliderStyleModel",
          "state": {
            "_view_name": "StyleView",
            "handle_color": null,
            "_model_name": "SliderStyleModel",
            "description_width": "",
            "_view_module": "@jupyter-widgets/base",
            "_model_module_version": "1.5.0",
            "_view_count": null,
            "_view_module_version": "1.2.0",
            "_model_module": "@jupyter-widgets/controls"
          }
        },
        "04d7885fe44b4aecbcb1ced9c47823ff": {
          "model_module": "@jupyter-widgets/base",
          "model_name": "LayoutModel",
          "state": {
            "_view_name": "LayoutView",
            "grid_template_rows": null,
            "right": null,
            "justify_content": null,
            "_view_module": "@jupyter-widgets/base",
            "overflow": null,
            "_model_module_version": "1.2.0",
            "_view_count": null,
            "flex_flow": null,
            "width": null,
            "min_width": null,
            "border": null,
            "align_items": null,
            "bottom": null,
            "_model_module": "@jupyter-widgets/base",
            "top": null,
            "grid_column": null,
            "overflow_y": null,
            "overflow_x": null,
            "grid_auto_flow": null,
            "grid_area": null,
            "grid_template_columns": null,
            "flex": null,
            "_model_name": "LayoutModel",
            "justify_items": null,
            "grid_row": null,
            "max_height": null,
            "align_content": null,
            "visibility": null,
            "align_self": null,
            "height": null,
            "min_height": null,
            "padding": null,
            "grid_auto_rows": null,
            "grid_gap": null,
            "max_width": null,
            "order": null,
            "_view_module_version": "1.2.0",
            "grid_template_areas": null,
            "object_position": null,
            "object_fit": null,
            "grid_auto_columns": null,
            "margin": null,
            "display": null,
            "left": null
          }
        }
      }
    }
  },
  "cells": [
    {
      "cell_type": "code",
      "metadata": {
        "colab": {
          "base_uri": "https://localhost:8080/",
          "height": 427
        },
        "id": "L9Ic9RpwXaM8",
        "outputId": "6a2f84fc-d3a4-493f-89e6-743301f14ff9"
      },
      "source": [
        "from datetime import date\n",
        "import requests\n",
        "import pandas as pd\n",
        "\n",
        "url = (\"https://api.worldbank.org/v2/country/COL/indicator/SI.POV.DDAY?\"\n",
        "        \"per_page=16104\"\n",
        "        \"&format=json\"\n",
        "        \"&date=2009:2019\")\n",
        "response = requests.get(url)\n",
        "database=response.json()\n",
        "print(response.json())\n",
        "df=pd.DataFrame.from_dict(database[1])\n",
        "df"
      ],
      "execution_count": 1,
      "outputs": [
        {
          "output_type": "stream",
          "text": [
            "[{'page': 1, 'pages': 1, 'per_page': 16104, 'total': 11, 'sourceid': '2', 'sourcename': 'World Development Indicators', 'lastupdated': '2021-06-30'}, [{'indicator': {'id': 'SI.POV.DDAY', 'value': 'Poverty headcount ratio at $1.90 a day (2011 PPP) (% of population)'}, 'country': {'id': 'CO', 'value': 'Colombia'}, 'countryiso3code': 'COL', 'date': '2019', 'value': 4.9, 'unit': '', 'obs_status': '', 'decimal': 1}, {'indicator': {'id': 'SI.POV.DDAY', 'value': 'Poverty headcount ratio at $1.90 a day (2011 PPP) (% of population)'}, 'country': {'id': 'CO', 'value': 'Colombia'}, 'countryiso3code': 'COL', 'date': '2018', 'value': 4.2, 'unit': '', 'obs_status': '', 'decimal': 1}, {'indicator': {'id': 'SI.POV.DDAY', 'value': 'Poverty headcount ratio at $1.90 a day (2011 PPP) (% of population)'}, 'country': {'id': 'CO', 'value': 'Colombia'}, 'countryiso3code': 'COL', 'date': '2017', 'value': 4, 'unit': '', 'obs_status': '', 'decimal': 1}, {'indicator': {'id': 'SI.POV.DDAY', 'value': 'Poverty headcount ratio at $1.90 a day (2011 PPP) (% of population)'}, 'country': {'id': 'CO', 'value': 'Colombia'}, 'countryiso3code': 'COL', 'date': '2016', 'value': 4.5, 'unit': '', 'obs_status': '', 'decimal': 1}, {'indicator': {'id': 'SI.POV.DDAY', 'value': 'Poverty headcount ratio at $1.90 a day (2011 PPP) (% of population)'}, 'country': {'id': 'CO', 'value': 'Colombia'}, 'countryiso3code': 'COL', 'date': '2015', 'value': 4.6, 'unit': '', 'obs_status': '', 'decimal': 1}, {'indicator': {'id': 'SI.POV.DDAY', 'value': 'Poverty headcount ratio at $1.90 a day (2011 PPP) (% of population)'}, 'country': {'id': 'CO', 'value': 'Colombia'}, 'countryiso3code': 'COL', 'date': '2014', 'value': 5, 'unit': '', 'obs_status': '', 'decimal': 1}, {'indicator': {'id': 'SI.POV.DDAY', 'value': 'Poverty headcount ratio at $1.90 a day (2011 PPP) (% of population)'}, 'country': {'id': 'CO', 'value': 'Colombia'}, 'countryiso3code': 'COL', 'date': '2013', 'value': 5.6, 'unit': '', 'obs_status': '', 'decimal': 1}, {'indicator': {'id': 'SI.POV.DDAY', 'value': 'Poverty headcount ratio at $1.90 a day (2011 PPP) (% of population)'}, 'country': {'id': 'CO', 'value': 'Colombia'}, 'countryiso3code': 'COL', 'date': '2012', 'value': 6.2, 'unit': '', 'obs_status': '', 'decimal': 1}, {'indicator': {'id': 'SI.POV.DDAY', 'value': 'Poverty headcount ratio at $1.90 a day (2011 PPP) (% of population)'}, 'country': {'id': 'CO', 'value': 'Colombia'}, 'countryiso3code': 'COL', 'date': '2011', 'value': 6.3, 'unit': '', 'obs_status': '', 'decimal': 1}, {'indicator': {'id': 'SI.POV.DDAY', 'value': 'Poverty headcount ratio at $1.90 a day (2011 PPP) (% of population)'}, 'country': {'id': 'CO', 'value': 'Colombia'}, 'countryiso3code': 'COL', 'date': '2010', 'value': 7.8, 'unit': '', 'obs_status': '', 'decimal': 1}, {'indicator': {'id': 'SI.POV.DDAY', 'value': 'Poverty headcount ratio at $1.90 a day (2011 PPP) (% of population)'}, 'country': {'id': 'CO', 'value': 'Colombia'}, 'countryiso3code': 'COL', 'date': '2009', 'value': 9, 'unit': '', 'obs_status': '', 'decimal': 1}]]\n"
          ],
          "name": "stdout"
        },
        {
          "output_type": "execute_result",
          "data": {
            "text/html": [
              "<div>\n",
              "<style scoped>\n",
              "    .dataframe tbody tr th:only-of-type {\n",
              "        vertical-align: middle;\n",
              "    }\n",
              "\n",
              "    .dataframe tbody tr th {\n",
              "        vertical-align: top;\n",
              "    }\n",
              "\n",
              "    .dataframe thead th {\n",
              "        text-align: right;\n",
              "    }\n",
              "</style>\n",
              "<table border=\"1\" class=\"dataframe\">\n",
              "  <thead>\n",
              "    <tr style=\"text-align: right;\">\n",
              "      <th></th>\n",
              "      <th>indicator</th>\n",
              "      <th>country</th>\n",
              "      <th>countryiso3code</th>\n",
              "      <th>date</th>\n",
              "      <th>value</th>\n",
              "      <th>unit</th>\n",
              "      <th>obs_status</th>\n",
              "      <th>decimal</th>\n",
              "    </tr>\n",
              "  </thead>\n",
              "  <tbody>\n",
              "    <tr>\n",
              "      <th>0</th>\n",
              "      <td>{'id': 'SI.POV.DDAY', 'value': 'Poverty headco...</td>\n",
              "      <td>{'id': 'CO', 'value': 'Colombia'}</td>\n",
              "      <td>COL</td>\n",
              "      <td>2019</td>\n",
              "      <td>4.9</td>\n",
              "      <td></td>\n",
              "      <td></td>\n",
              "      <td>1</td>\n",
              "    </tr>\n",
              "    <tr>\n",
              "      <th>1</th>\n",
              "      <td>{'id': 'SI.POV.DDAY', 'value': 'Poverty headco...</td>\n",
              "      <td>{'id': 'CO', 'value': 'Colombia'}</td>\n",
              "      <td>COL</td>\n",
              "      <td>2018</td>\n",
              "      <td>4.2</td>\n",
              "      <td></td>\n",
              "      <td></td>\n",
              "      <td>1</td>\n",
              "    </tr>\n",
              "    <tr>\n",
              "      <th>2</th>\n",
              "      <td>{'id': 'SI.POV.DDAY', 'value': 'Poverty headco...</td>\n",
              "      <td>{'id': 'CO', 'value': 'Colombia'}</td>\n",
              "      <td>COL</td>\n",
              "      <td>2017</td>\n",
              "      <td>4.0</td>\n",
              "      <td></td>\n",
              "      <td></td>\n",
              "      <td>1</td>\n",
              "    </tr>\n",
              "    <tr>\n",
              "      <th>3</th>\n",
              "      <td>{'id': 'SI.POV.DDAY', 'value': 'Poverty headco...</td>\n",
              "      <td>{'id': 'CO', 'value': 'Colombia'}</td>\n",
              "      <td>COL</td>\n",
              "      <td>2016</td>\n",
              "      <td>4.5</td>\n",
              "      <td></td>\n",
              "      <td></td>\n",
              "      <td>1</td>\n",
              "    </tr>\n",
              "    <tr>\n",
              "      <th>4</th>\n",
              "      <td>{'id': 'SI.POV.DDAY', 'value': 'Poverty headco...</td>\n",
              "      <td>{'id': 'CO', 'value': 'Colombia'}</td>\n",
              "      <td>COL</td>\n",
              "      <td>2015</td>\n",
              "      <td>4.6</td>\n",
              "      <td></td>\n",
              "      <td></td>\n",
              "      <td>1</td>\n",
              "    </tr>\n",
              "    <tr>\n",
              "      <th>5</th>\n",
              "      <td>{'id': 'SI.POV.DDAY', 'value': 'Poverty headco...</td>\n",
              "      <td>{'id': 'CO', 'value': 'Colombia'}</td>\n",
              "      <td>COL</td>\n",
              "      <td>2014</td>\n",
              "      <td>5.0</td>\n",
              "      <td></td>\n",
              "      <td></td>\n",
              "      <td>1</td>\n",
              "    </tr>\n",
              "    <tr>\n",
              "      <th>6</th>\n",
              "      <td>{'id': 'SI.POV.DDAY', 'value': 'Poverty headco...</td>\n",
              "      <td>{'id': 'CO', 'value': 'Colombia'}</td>\n",
              "      <td>COL</td>\n",
              "      <td>2013</td>\n",
              "      <td>5.6</td>\n",
              "      <td></td>\n",
              "      <td></td>\n",
              "      <td>1</td>\n",
              "    </tr>\n",
              "    <tr>\n",
              "      <th>7</th>\n",
              "      <td>{'id': 'SI.POV.DDAY', 'value': 'Poverty headco...</td>\n",
              "      <td>{'id': 'CO', 'value': 'Colombia'}</td>\n",
              "      <td>COL</td>\n",
              "      <td>2012</td>\n",
              "      <td>6.2</td>\n",
              "      <td></td>\n",
              "      <td></td>\n",
              "      <td>1</td>\n",
              "    </tr>\n",
              "    <tr>\n",
              "      <th>8</th>\n",
              "      <td>{'id': 'SI.POV.DDAY', 'value': 'Poverty headco...</td>\n",
              "      <td>{'id': 'CO', 'value': 'Colombia'}</td>\n",
              "      <td>COL</td>\n",
              "      <td>2011</td>\n",
              "      <td>6.3</td>\n",
              "      <td></td>\n",
              "      <td></td>\n",
              "      <td>1</td>\n",
              "    </tr>\n",
              "    <tr>\n",
              "      <th>9</th>\n",
              "      <td>{'id': 'SI.POV.DDAY', 'value': 'Poverty headco...</td>\n",
              "      <td>{'id': 'CO', 'value': 'Colombia'}</td>\n",
              "      <td>COL</td>\n",
              "      <td>2010</td>\n",
              "      <td>7.8</td>\n",
              "      <td></td>\n",
              "      <td></td>\n",
              "      <td>1</td>\n",
              "    </tr>\n",
              "    <tr>\n",
              "      <th>10</th>\n",
              "      <td>{'id': 'SI.POV.DDAY', 'value': 'Poverty headco...</td>\n",
              "      <td>{'id': 'CO', 'value': 'Colombia'}</td>\n",
              "      <td>COL</td>\n",
              "      <td>2009</td>\n",
              "      <td>9.0</td>\n",
              "      <td></td>\n",
              "      <td></td>\n",
              "      <td>1</td>\n",
              "    </tr>\n",
              "  </tbody>\n",
              "</table>\n",
              "</div>"
            ],
            "text/plain": [
              "                                            indicator  ... decimal\n",
              "0   {'id': 'SI.POV.DDAY', 'value': 'Poverty headco...  ...       1\n",
              "1   {'id': 'SI.POV.DDAY', 'value': 'Poverty headco...  ...       1\n",
              "2   {'id': 'SI.POV.DDAY', 'value': 'Poverty headco...  ...       1\n",
              "3   {'id': 'SI.POV.DDAY', 'value': 'Poverty headco...  ...       1\n",
              "4   {'id': 'SI.POV.DDAY', 'value': 'Poverty headco...  ...       1\n",
              "5   {'id': 'SI.POV.DDAY', 'value': 'Poverty headco...  ...       1\n",
              "6   {'id': 'SI.POV.DDAY', 'value': 'Poverty headco...  ...       1\n",
              "7   {'id': 'SI.POV.DDAY', 'value': 'Poverty headco...  ...       1\n",
              "8   {'id': 'SI.POV.DDAY', 'value': 'Poverty headco...  ...       1\n",
              "9   {'id': 'SI.POV.DDAY', 'value': 'Poverty headco...  ...       1\n",
              "10  {'id': 'SI.POV.DDAY', 'value': 'Poverty headco...  ...       1\n",
              "\n",
              "[11 rows x 8 columns]"
            ]
          },
          "metadata": {
            "tags": []
          },
          "execution_count": 1
        }
      ]
    },
    {
      "cell_type": "code",
      "metadata": {
        "colab": {
          "base_uri": "https://localhost:8080/",
          "height": 265
        },
        "id": "LCr3WX2ChP-q",
        "outputId": "8d5aec8c-6b7c-43ef-aa82-b469ea2ec52f"
      },
      "source": [
        "import matplotlib.pyplot as plt\n",
        "\n",
        "dataset=df.sort_values(by=\"date\",ascending=True)\n",
        "plt.plot('date','value',data=dataset)\n",
        "plt.grid()"
      ],
      "execution_count": 9,
      "outputs": [
        {
          "output_type": "display_data",
          "data": {
            "image/png": "[encoded data removed]",
            "text/plain": [
              "<Figure size 432x288 with 1 Axes>"
            ]
          },
          "metadata": {
            "tags": [],
            "needs_background": "light"
          }
        }
      ]
    },
    {
      "cell_type": "code",
      "metadata": {
        "id": "LHvbzDGoaFve"
      },
      "source": [
        "import numpy as np\n",
        "from sklearn.linear_model import  LinearRegression\n",
        "from sklearn.pipeline import make_pipeline\n",
        "from sklearn.preprocessing import PolynomialFeatures\n",
        "from sklearn.model_selection import train_test_split\n",
        "import time \n",
        "from sklearn.linear_model import LinearRegression\n",
        "from sklearn.linear_model import ElasticNet\n",
        "from sklearn.linear_model import Lasso\n",
        "from sklearn.linear_model import Ridge\n",
        "from sklearn.metrics import mean_squared_error, r2_score\n",
        "\n",
        "def regresion_lineal(data,grado):\n",
        "\n",
        "  poly_model = make_pipeline(PolynomialFeatures(grado), LinearRegression())\n",
        "  y_train=[];\n",
        "\n",
        "  for i in range(0,len(data)-1):\n",
        "    y_train.append(dataset.values[i][4])\n",
        "\n",
        "  X_train=[0,1,2,3,4,5,6,7,8,9];\n",
        "\n",
        "  x=np.array(X_train);\n",
        "  y=np.array(y_train);\n",
        "\n",
        "\n",
        "  poly_model.fit(x[:, np.newaxis], y)\n",
        "\n",
        "  xfit = np.linspace(0, 10, 1000)\n",
        "  yfit = poly_model.predict(xfit[:, np.newaxis])\n",
        "\n",
        "\n",
        "  poly = PolynomialFeatures(grado, include_bias=False)\n",
        "  X_poly = poly.fit_transform(x[:, None])\n",
        "\n",
        "  X_train, x_eval, y_train, y_eval = train_test_split(X_poly, y)#, test_size=0.5, shuffle=False)\n",
        "\n",
        "  linear_model = LinearRegression()\n",
        "  start_time = time.process_time()\n",
        "  linear_model.fit(X_train, y_train)\n",
        "\n",
        "  y_pred_in = linear_model.predict(X_train)\n",
        "  y_pred_out = linear_model.predict(x_eval)\n",
        "\n",
        "  print('Modelo lineal')\n",
        "  print('Coeficientes',linear_model.coef_)\n",
        "  print('Intercepto',linear_model.intercept_)\n",
        "  print('El tiempo de ejecución es',time.process_time() - start_time, 'segundos')\n",
        "  print('El error cuadratico dentro de la muestra',mean_squared_error(y_train, y_pred_in))\n",
        "  print('El error cuadratico fuera de la muestra',mean_squared_error(y_eval, y_pred_out))\n",
        "\n",
        "  return x,y,xfit,yfit,X_train[:, 0], y_pred_in,x_eval[:, 0], y_pred_out;\n",
        "\n",
        "def regresion_ridge(data,grado):\n",
        "\n",
        "  poly_model = make_pipeline(PolynomialFeatures(grado), LinearRegression())\n",
        "  y_train=[];\n",
        "\n",
        "  for i in range(0,len(data)-1):\n",
        "    y_train.append(dataset.values[i][4])\n",
        "\n",
        "  X_train=[0,1,2,3,4,5,6,7,8,9];\n",
        "\n",
        "  x=np.array(X_train);\n",
        "  y=np.array(y_train);\n",
        "\n",
        "\n",
        "  poly_model.fit(x[:, np.newaxis], y)\n",
        "\n",
        "  xfit = np.linspace(0, 10, 1000)\n",
        "  yfit = poly_model.predict(xfit[:, np.newaxis])\n",
        "\n",
        "\n",
        "  poly = PolynomialFeatures(grado, include_bias=False)\n",
        "  X_poly = poly.fit_transform(x[:, None])\n",
        "\n",
        "  X_train, x_eval, y_train, y_eval = train_test_split(X_poly, y)#, test_size=0.5, shuffle=False)\n",
        "\n",
        "  ridge_model = Ridge(alpha = 1)\n",
        "  start_time = time.process_time()\n",
        "  ridge_model.fit(X_train, y_train)\n",
        "\n",
        "  y_pred_in = ridge_model.predict(X_train)\n",
        "  y_pred_out = ridge_model.predict(x_eval)\n",
        "\n",
        "  print('El modelo Ridge')\n",
        "  print('Los coeficientes son',ridge_model.coef_)\n",
        "  print('El intercepto es', ridge_model.intercept_)\n",
        "  print('El tiempo de ejecución es', time.process_time() - start_time, 'segundos')\n",
        "  print('El error cuadratico dentro de muestra es', mean_squared_error(y_train, y_pred_in))\n",
        "  print('El error cuadratico fuera de muestra es', mean_squared_error(y_eval, y_pred_out))\n",
        "\n",
        "  return x,y,xfit,yfit,X_train[:, 0], y_pred_in,x_eval[:, 0], y_pred_out;\n",
        "\n",
        "def regresion_lasso(data,grado):\n",
        "\n",
        "  poly_model = make_pipeline(PolynomialFeatures(grado), LinearRegression())\n",
        "  y_train=[];\n",
        "\n",
        "  for i in range(0,len(data)-1):\n",
        "    y_train.append(dataset.values[i][4])\n",
        "\n",
        "  X_train=[0,1,2,3,4,5,6,7,8,9];\n",
        "\n",
        "  x=np.array(X_train);\n",
        "  y=np.array(y_train);\n",
        "\n",
        "\n",
        "  poly_model.fit(x[:, np.newaxis], y)\n",
        "\n",
        "  xfit = np.linspace(0, 10, 1000)\n",
        "  yfit = poly_model.predict(xfit[:, np.newaxis])\n",
        "\n",
        "\n",
        "  poly = PolynomialFeatures(grado, include_bias=False)\n",
        "  X_poly = poly.fit_transform(x[:, None])\n",
        "\n",
        "  X_train, x_eval, y_train, y_eval = train_test_split(X_poly, y)#, test_size=0.5, shuffle=False)\n",
        "\n",
        "  lasso_model = Lasso(alpha = 0.5)\n",
        "  start_time = time.process_time()\n",
        "  lasso_model.fit(X_train, y_train)\n",
        "\n",
        "  y_pred_in = lasso_model.predict(X_train)\n",
        "  y_pred_out = lasso_model.predict(x_eval)\n",
        "\n",
        "  print('Modelo Lasso')\n",
        "  print('Los coeficientes son',lasso_model.coef_)\n",
        "  print('El intercepto es', lasso_model.intercept_)\n",
        "  print('El tiempo de ejecución es', time.process_time() - start_time, 'segundos')\n",
        "  print('El error cuadratico dentro de muestra es', mean_squared_error(y_train, y_pred_in))\n",
        "  print('El error cuadratico fuera de muestra es', mean_squared_error(y_eval, y_pred_out))\n",
        "\n",
        "  return x,y,xfit,yfit,X_train[:, 0], y_pred_in,x_eval[:, 0], y_pred_out;\n",
        "\n",
        "def regresion_elasticnet(data,grado):\n",
        "  \n",
        "  poly_model = make_pipeline(PolynomialFeatures(grado), LinearRegression())\n",
        "  y_train=[];\n",
        "\n",
        "  for i in range(0,len(data)-1):\n",
        "    y_train.append(dataset.values[i][4])\n",
        "\n",
        "  X_train=[0,1,2,3,4,5,6,7,8,9];\n",
        "\n",
        "  x=np.array(X_train);\n",
        "  y=np.array(y_train);\n",
        "\n",
        "\n",
        "  poly_model.fit(x[:, np.newaxis], y)\n",
        "\n",
        "  xfit = np.linspace(0, 10, 1000)\n",
        "  yfit = poly_model.predict(xfit[:, np.newaxis])\n",
        "\n",
        "\n",
        "  poly = PolynomialFeatures(grado, include_bias=False)\n",
        "  X_poly = poly.fit_transform(x[:, None])\n",
        "\n",
        "  X_train, x_eval, y_train, y_eval = train_test_split(X_poly, y)#, test_size=0.5, shuffle=False)\n",
        "\n",
        "  elasticnet_model = ElasticNet(alpha =0.5, l1_ratio=0.5)\n",
        "  start_time = time.process_time() #Hora local del servidor\n",
        "  elasticnet_model.fit(X_train, y_train)\n",
        "\n",
        "  y_pred_in = elasticnet_model.predict(X_train)\n",
        "  y_pred_out = elasticnet_model.predict(x_eval)\n",
        "\n",
        "  print('El modelo ElasticNET')\n",
        "  print('Los coeficientes son',elasticnet_model.coef_)\n",
        "  print('El intercepto es', elasticnet_model.intercept_)\n",
        "  print('El tiempo de ejecución es', time.process_time() - start_time, 'segundos')\n",
        "  print('El error cuadratico dentro de muestra es', mean_squared_error(y_train, y_pred_in))\n",
        "  print('El error cuadratico fuera de muestra es', mean_squared_error(y_eval, y_pred_out))\n",
        "\n",
        "  return x,y,xfit,yfit,X_train[:, 0], y_pred_in,x_eval[:, 0], y_pred_out;\n"
      ],
      "execution_count": 15,
      "outputs": []
    },
    {
      "cell_type": "markdown",
      "metadata": {
        "id": "K9ab_0_nVrvO"
      },
      "source": [
        "# Regresión Lineal\n",
        "\n",
        "Se extrajo de una base de datos de la URL suminstrada por el banco Mundial,se realizo un filtro para discriminar por paises y obtener solo la información de Colombia.\n",
        "\n",
        "El resultado obtenido muestra el indice de pobreza en el pais entre los años 2009 y 2019, el objetivo es desarrollar un modelo capaz de predecir el comportamiento de este indice a traves de lo años.\n",
        "\n",
        "A continuación se muestran 3 escenarios en donde se modifica el grado del polinomio que estima el modelo para identificar en cual de ellos se ajustan mejor los datos.\n",
        "\n",
        "# Regresion Ridge\n",
        "\n",
        "#Regresion Lasso\n",
        "\n",
        "#Regresion ElasticNET\n",
        "\n",
        "## Utilizar el widget para controlar el grado del polinomio para las diferentes regresiones"
      ]
    },
    {
      "cell_type": "code",
      "metadata": {
        "colab": {
          "base_uri": "https://localhost:8080/",
          "height": 49,
          "referenced_widgets": [
            "18ae40a06da0485494a65dd2c529852b",
            "22702960405846188aaa069ea31fcb0d",
            "04d7885fe44b4aecbcb1ced9c47823ff"
          ]
        },
        "id": "2xVIXL5OZQX5",
        "outputId": "06520bad-8929-4567-aa49-7c9bbd600c13"
      },
      "source": [
        "import ipywidgets as widgets\n",
        "w=widgets.IntSlider(2,2,10,1)\n",
        "display(w)"
      ],
      "execution_count": 7,
      "outputs": [
        {
          "output_type": "display_data",
          "data": {
            "application/vnd.jupyter.widget-view+json": {
              "model_id": "18ae40a06da0485494a65dd2c529852b",
              "version_minor": 0,
              "version_major": 2
            },
            "text/plain": [
              "IntSlider(value=2, max=10, min=2)"
            ]
          },
          "metadata": {
            "tags": []
          }
        }
      ]
    },
    {
      "cell_type": "code",
      "metadata": {
        "colab": {
          "base_uri": "https://localhost:8080/"
        },
        "id": "teoAXmX8nDpn",
        "outputId": "a58887c3-cf8e-462e-8fc9-ccaf25e269ce"
      },
      "source": [
        "lineal=regresion_lineal(dataset,w.value);\n",
        "lasso=regresion_lasso(dataset,w.value);\n",
        "ridge=regresion_ridge(dataset,w.value);\n",
        "elasticnet=regresion_elasticnet(dataset,w.value);\n"
      ],
      "execution_count": 25,
      "outputs": [
        {
          "output_type": "stream",
          "text": [
            "Modelo lineal\n",
            "Coeficientes [-4.12985263e+00  2.41816991e+00 -6.52930583e-01  7.67548504e-02\n",
            " -3.23638859e-03]\n",
            "Intercepto 8.999031525273288\n",
            "El tiempo de ejecución es 0.0043054009999998755 segundos\n",
            "El error cuadratico dentro de la muestra 0.0008404977311158387\n",
            "El error cuadratico fuera de la muestra 0.5949654345559064\n",
            "Modelo Lasso\n",
            "Los coeficientes son [-0.         -0.17056423  0.00023208  0.00358465 -0.00023351]\n",
            "El intercepto es 7.873613751289321\n",
            "El tiempo de ejecución es 0.0036930990000012542 segundos\n",
            "El error cuadratico dentro de muestra es 0.3387451262103211\n",
            "El error cuadratico fuera de muestra es 0.04594752181941677\n",
            "El modelo Ridge\n",
            "Los coeficientes son [-0.51817407 -0.50977853  0.17980111 -0.02217521  0.00094613]\n",
            "El intercepto es 8.664415158014064\n",
            "El tiempo de ejecución es 0.003532567000000597 segundos\n",
            "El error cuadratico dentro de muestra es 0.0453549715799366\n",
            "El error cuadratico fuera de muestra es 0.09517517036266461\n",
            "El modelo ElasticNET\n",
            "Los coeficientes son [-0.00000000e+00 -1.28801033e-01  1.40517738e-03  1.46514716e-03\n",
            " -5.95146056e-05]\n",
            "El intercepto es 7.53562654510937\n",
            "El tiempo de ejecución es 0.0016561629999998217 segundos\n",
            "El error cuadratico dentro de muestra es 0.055002171892873715\n",
            "El error cuadratico fuera de muestra es 0.9298247703381728\n"
          ],
          "name": "stdout"
        },
        {
          "output_type": "stream",
          "text": [
            "/usr/local/lib/python3.7/dist-packages/sklearn/linear_model/_coordinate_descent.py:476: ConvergenceWarning: Objective did not converge. You might want to increase the number of iterations. Duality gap: 1.4690951373429257, tolerance: 0.0020557142857142857\n",
            "  positive)\n",
            "/usr/local/lib/python3.7/dist-packages/sklearn/linear_model/_coordinate_descent.py:476: ConvergenceWarning: Objective did not converge. You might want to increase the number of iterations. Duality gap: 0.389082173412445, tolerance: 0.0011088571428571428\n",
            "  positive)\n"
          ],
          "name": "stderr"
        }
      ]
    },
    {
      "cell_type": "code",
      "metadata": {
        "colab": {
          "base_uri": "https://localhost:8080/",
          "height": 311
        },
        "id": "Vd55kQf_gGv1",
        "outputId": "4dae7393-f44a-4e7a-d2f0-d1d5e1a351c4"
      },
      "source": [
        "\n",
        "fig, axs = plt.subplots(2,2)\n",
        "axs[0,0].plot(lineal[0], lineal[1])\n",
        "axs[0,0].plot(lineal[2], lineal[3],'r')\n",
        "axs[0,0].scatter(lineal[4],lineal[5])\n",
        "axs[0,0].scatter(lineal[6], lineal[7])\n",
        "axs[0,0].set_title('Regresión lineal')\n",
        "axs[0,0].grid()\n",
        "\n",
        "axs[0,1].plot(lasso[0], lasso[1])\n",
        "axs[0,1].plot(lasso[2], lasso[3],'r')\n",
        "axs[0,1].scatter(lasso[4],lasso[5])\n",
        "axs[0,1].scatter(lasso[6], lasso[7])\n",
        "axs[0,1].set_title('Regresión Lasso')\n",
        "axs[0,1].grid()\n",
        "\n",
        "axs[1,0].plot(ridge[0], ridge[1])\n",
        "axs[1,0].plot(ridge[2], ridge[3],'r')\n",
        "axs[1,0].scatter(ridge[4],ridge[5])\n",
        "axs[1,0].scatter(ridge[6], ridge[7])\n",
        "axs[1,0].set_title('Regresión Ridge')\n",
        "axs[1,0].grid()\n",
        "\n",
        "\n",
        "axs[1,1].plot(elasticnet[0], elasticnet[1])\n",
        "axs[1,1].plot(elasticnet[2], elasticnet[3],'r')\n",
        "axs[1,1].scatter(elasticnet[4],elasticnet[5])\n",
        "axs[1,1].scatter(elasticnet[6], elasticnet[7])\n",
        "axs[1,1].set_title('Regresión ElasticNET')\n",
        "axs[1,1].grid()\n",
        "print('Grafica de las cuatro regresiones para grado',w.value)\n",
        "fig.suptitle('Cuatro regresiones');"
      ],
      "execution_count": 24,
      "outputs": [
        {
          "output_type": "stream",
          "text": [
            "Grafica de las cuatro regresiones para grado 5\n"
          ],
          "name": "stdout"
        },
        {
          "output_type": "display_data",
          "data": {
            "image/png": "[encoded data removed]",
            "text/plain": [
              "<Figure size 432x288 with 4 Axes>"
            ]
          },
          "metadata": {
            "tags": [],
            "needs_background": "light"
          }
        }
      ]
    },
    {
      "cell_type": "markdown",
      "metadata": {
        "id": "GqOU1Mp9ocGK"
      },
      "source": [
        "### Comparación de las cuatros regresiones para diferentes  grados del polinomio en referencia al error cuadratico adentro y afuera de la muestra,lo ideal indicaria que entre mas cercano a cero ambos error la regresión se ajusta perfectamente a los datos."
      ]
    },
    {
      "cell_type": "markdown",
      "metadata": {
        "id": "F0I_j7uyoLKT"
      },
      "source": [
        "![image.png](data:image/png;base64,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)"
      ]
    }
  ]
}