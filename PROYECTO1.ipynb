{
  "nbformat": 4,
  "nbformat_minor": 0,
  "metadata": {
    "colab": {
      "name": "PROYECTO1.ipynb",
      "provenance": [],
      "collapsed_sections": []
    },
    "kernelspec": {
      "name": "python3",
      "display_name": "Python 3"
    },
    "language_info": {
      "name": "python"
    }
  },
  "cells": [
    {
      "cell_type": "code",
      "metadata": {
        "id": "ha7dMS1h5Bgg"
      },
      "source": [
        "import pandas as pd\n",
        "import numpy as np\n",
        "import matplotlib.pyplot as plt\n",
        "import seaborn as sns"
      ],
      "execution_count": null,
      "outputs": []
    },
    {
      "cell_type": "code",
      "metadata": {
        "colab": {
          "base_uri": "https://localhost:8080/",
          "height": 419
        },
        "id": "corbi8ll6597",
        "outputId": "86ee4efd-3fc0-49e2-ed51-a1aa97263c61"
      },
      "source": [
        "base_internet_2020 = pd.read_excel (\"/content/Base purgada GEIH 2020.xlsx\",\n",
        "                                    usecols =\"A:E\",\n",
        "                                    dtype={\"año de nacimiento\":int})\n",
        "base_internet_2020"
      ],
      "execution_count": null,
      "outputs": [
        {
          "output_type": "execute_result",
          "data": {
            "text/html": [
              "<div>\n",
              "<style scoped>\n",
              "    .dataframe tbody tr th:only-of-type {\n",
              "        vertical-align: middle;\n",
              "    }\n",
              "\n",
              "    .dataframe tbody tr th {\n",
              "        vertical-align: top;\n",
              "    }\n",
              "\n",
              "    .dataframe thead th {\n",
              "        text-align: right;\n",
              "    }\n",
              "</style>\n",
              "<table border=\"1\" class=\"dataframe\">\n",
              "  <thead>\n",
              "    <tr style=\"text-align: right;\">\n",
              "      <th></th>\n",
              "      <th>DPTO</th>\n",
              "      <th>sexo</th>\n",
              "      <th>año de nacimiento</th>\n",
              "      <th>servicio internet</th>\n",
              "      <th>Estrato</th>\n",
              "    </tr>\n",
              "  </thead>\n",
              "  <tbody>\n",
              "    <tr>\n",
              "      <th>0</th>\n",
              "      <td>11</td>\n",
              "      <td>2</td>\n",
              "      <td>1966</td>\n",
              "      <td>2</td>\n",
              "      <td>3</td>\n",
              "    </tr>\n",
              "    <tr>\n",
              "      <th>1</th>\n",
              "      <td>11</td>\n",
              "      <td>1</td>\n",
              "      <td>1992</td>\n",
              "      <td>1</td>\n",
              "      <td>3</td>\n",
              "    </tr>\n",
              "    <tr>\n",
              "      <th>2</th>\n",
              "      <td>11</td>\n",
              "      <td>1</td>\n",
              "      <td>1965</td>\n",
              "      <td>2</td>\n",
              "      <td>3</td>\n",
              "    </tr>\n",
              "    <tr>\n",
              "      <th>3</th>\n",
              "      <td>11</td>\n",
              "      <td>2</td>\n",
              "      <td>1976</td>\n",
              "      <td>2</td>\n",
              "      <td>3</td>\n",
              "    </tr>\n",
              "    <tr>\n",
              "      <th>4</th>\n",
              "      <td>11</td>\n",
              "      <td>1</td>\n",
              "      <td>2002</td>\n",
              "      <td>1</td>\n",
              "      <td>3</td>\n",
              "    </tr>\n",
              "    <tr>\n",
              "      <th>...</th>\n",
              "      <td>...</td>\n",
              "      <td>...</td>\n",
              "      <td>...</td>\n",
              "      <td>...</td>\n",
              "      <td>...</td>\n",
              "    </tr>\n",
              "    <tr>\n",
              "      <th>13200</th>\n",
              "      <td>11</td>\n",
              "      <td>2</td>\n",
              "      <td>1971</td>\n",
              "      <td>2</td>\n",
              "      <td>1</td>\n",
              "    </tr>\n",
              "    <tr>\n",
              "      <th>13201</th>\n",
              "      <td>11</td>\n",
              "      <td>2</td>\n",
              "      <td>1960</td>\n",
              "      <td>2</td>\n",
              "      <td>1</td>\n",
              "    </tr>\n",
              "    <tr>\n",
              "      <th>13202</th>\n",
              "      <td>11</td>\n",
              "      <td>1</td>\n",
              "      <td>1994</td>\n",
              "      <td>2</td>\n",
              "      <td>0</td>\n",
              "    </tr>\n",
              "    <tr>\n",
              "      <th>13203</th>\n",
              "      <td>11</td>\n",
              "      <td>2</td>\n",
              "      <td>2003</td>\n",
              "      <td>2</td>\n",
              "      <td>0</td>\n",
              "    </tr>\n",
              "    <tr>\n",
              "      <th>13204</th>\n",
              "      <td>11</td>\n",
              "      <td>1</td>\n",
              "      <td>1940</td>\n",
              "      <td>2</td>\n",
              "      <td>0</td>\n",
              "    </tr>\n",
              "  </tbody>\n",
              "</table>\n",
              "<p>13205 rows × 5 columns</p>\n",
              "</div>"
            ],
            "text/plain": [
              "       DPTO  sexo  año de nacimiento  servicio internet  Estrato\n",
              "0        11     2               1966                  2        3\n",
              "1        11     1               1992                  1        3\n",
              "2        11     1               1965                  2        3\n",
              "3        11     2               1976                  2        3\n",
              "4        11     1               2002                  1        3\n",
              "...     ...   ...                ...                ...      ...\n",
              "13200    11     2               1971                  2        1\n",
              "13201    11     2               1960                  2        1\n",
              "13202    11     1               1994                  2        0\n",
              "13203    11     2               2003                  2        0\n",
              "13204    11     1               1940                  2        0\n",
              "\n",
              "[13205 rows x 5 columns]"
            ]
          },
          "metadata": {
            "tags": []
          },
          "execution_count": 2
        }
      ]
    },
    {
      "cell_type": "code",
      "metadata": {
        "colab": {
          "base_uri": "https://localhost:8080/",
          "height": 359
        },
        "id": "3ZJBeivxEmLv",
        "outputId": "5dae62c4-254f-4500-d4e6-9ed1191f006d"
      },
      "source": [
        "#Encabezado de la lista, el comando visualiza los 10 primeros datos de la base desde 0 hasta 9\n",
        "base_internet_2020.head(10)"
      ],
      "execution_count": null,
      "outputs": [
        {
          "output_type": "execute_result",
          "data": {
            "text/html": [
              "<div>\n",
              "<style scoped>\n",
              "    .dataframe tbody tr th:only-of-type {\n",
              "        vertical-align: middle;\n",
              "    }\n",
              "\n",
              "    .dataframe tbody tr th {\n",
              "        vertical-align: top;\n",
              "    }\n",
              "\n",
              "    .dataframe thead th {\n",
              "        text-align: right;\n",
              "    }\n",
              "</style>\n",
              "<table border=\"1\" class=\"dataframe\">\n",
              "  <thead>\n",
              "    <tr style=\"text-align: right;\">\n",
              "      <th></th>\n",
              "      <th>DPTO</th>\n",
              "      <th>sexo</th>\n",
              "      <th>año de nacimiento</th>\n",
              "      <th>servicio internet</th>\n",
              "      <th>Estrato</th>\n",
              "    </tr>\n",
              "  </thead>\n",
              "  <tbody>\n",
              "    <tr>\n",
              "      <th>0</th>\n",
              "      <td>11</td>\n",
              "      <td>2</td>\n",
              "      <td>1966</td>\n",
              "      <td>2</td>\n",
              "      <td>3</td>\n",
              "    </tr>\n",
              "    <tr>\n",
              "      <th>1</th>\n",
              "      <td>11</td>\n",
              "      <td>1</td>\n",
              "      <td>1992</td>\n",
              "      <td>1</td>\n",
              "      <td>3</td>\n",
              "    </tr>\n",
              "    <tr>\n",
              "      <th>2</th>\n",
              "      <td>11</td>\n",
              "      <td>1</td>\n",
              "      <td>1965</td>\n",
              "      <td>2</td>\n",
              "      <td>3</td>\n",
              "    </tr>\n",
              "    <tr>\n",
              "      <th>3</th>\n",
              "      <td>11</td>\n",
              "      <td>2</td>\n",
              "      <td>1976</td>\n",
              "      <td>2</td>\n",
              "      <td>3</td>\n",
              "    </tr>\n",
              "    <tr>\n",
              "      <th>4</th>\n",
              "      <td>11</td>\n",
              "      <td>1</td>\n",
              "      <td>2002</td>\n",
              "      <td>1</td>\n",
              "      <td>3</td>\n",
              "    </tr>\n",
              "    <tr>\n",
              "      <th>5</th>\n",
              "      <td>11</td>\n",
              "      <td>1</td>\n",
              "      <td>1976</td>\n",
              "      <td>1</td>\n",
              "      <td>3</td>\n",
              "    </tr>\n",
              "    <tr>\n",
              "      <th>6</th>\n",
              "      <td>11</td>\n",
              "      <td>1</td>\n",
              "      <td>1963</td>\n",
              "      <td>2</td>\n",
              "      <td>3</td>\n",
              "    </tr>\n",
              "    <tr>\n",
              "      <th>7</th>\n",
              "      <td>11</td>\n",
              "      <td>2</td>\n",
              "      <td>1963</td>\n",
              "      <td>1</td>\n",
              "      <td>3</td>\n",
              "    </tr>\n",
              "    <tr>\n",
              "      <th>8</th>\n",
              "      <td>11</td>\n",
              "      <td>1</td>\n",
              "      <td>1995</td>\n",
              "      <td>1</td>\n",
              "      <td>3</td>\n",
              "    </tr>\n",
              "    <tr>\n",
              "      <th>9</th>\n",
              "      <td>11</td>\n",
              "      <td>2</td>\n",
              "      <td>1984</td>\n",
              "      <td>1</td>\n",
              "      <td>4</td>\n",
              "    </tr>\n",
              "  </tbody>\n",
              "</table>\n",
              "</div>"
            ],
            "text/plain": [
              "   DPTO  sexo  año de nacimiento  servicio internet  Estrato\n",
              "0    11     2               1966                  2        3\n",
              "1    11     1               1992                  1        3\n",
              "2    11     1               1965                  2        3\n",
              "3    11     2               1976                  2        3\n",
              "4    11     1               2002                  1        3\n",
              "5    11     1               1976                  1        3\n",
              "6    11     1               1963                  2        3\n",
              "7    11     2               1963                  1        3\n",
              "8    11     1               1995                  1        3\n",
              "9    11     2               1984                  1        4"
            ]
          },
          "metadata": {
            "tags": []
          },
          "execution_count": 3
        }
      ]
    },
    {
      "cell_type": "markdown",
      "metadata": {
        "id": "LBDV_V1vlr6u"
      },
      "source": [
        ""
      ]
    },
    {
      "cell_type": "code",
      "metadata": {
        "colab": {
          "base_uri": "https://localhost:8080/"
        },
        "id": "KAXC8q7e8TqI",
        "outputId": "e3b64121-a9ec-43b1-e1c6-2d14f0be120d"
      },
      "source": [
        "#Estadisiticas descriptivas\n",
        "base_internet_2020[\"año de nacimiento\"].count"
      ],
      "execution_count": null,
      "outputs": [
        {
          "output_type": "execute_result",
          "data": {
            "text/plain": [
              "<bound method Series.count of 0        1966\n",
              "1        1992\n",
              "2        1965\n",
              "3        1976\n",
              "4        2002\n",
              "         ... \n",
              "13200    1971\n",
              "13201    1960\n",
              "13202    1994\n",
              "13203    2003\n",
              "13204    1940\n",
              "Name: año de nacimiento, Length: 13205, dtype: int64>"
            ]
          },
          "metadata": {
            "tags": []
          },
          "execution_count": 4
        }
      ]
    },
    {
      "cell_type": "code",
      "metadata": {
        "colab": {
          "base_uri": "https://localhost:8080/"
        },
        "id": "0MAWzxINBHxq",
        "outputId": "8740ff5c-45f2-4d54-c8b1-ec340807e91a"
      },
      "source": [
        "#Estadisticas descriptivas mean  hallar el promedio de la columna seleccionada\n",
        "\n",
        "base_internet_2020[\"Estrato\"].mean()"
      ],
      "execution_count": null,
      "outputs": [
        {
          "output_type": "execute_result",
          "data": {
            "text/plain": [
              "1.5994698977659978"
            ]
          },
          "metadata": {
            "tags": []
          },
          "execution_count": 5
        }
      ]
    },
    {
      "cell_type": "code",
      "metadata": {
        "id": "3hwP1xqQ70Zm",
        "colab": {
          "base_uri": "https://localhost:8080/"
        },
        "outputId": "8de90d7c-ec23-485e-ad46-e56fc82b382a"
      },
      "source": [
        "#Estadisiticas descriptivas min hallar el minimo de la columna seleccionada\n",
        "\n",
        "base_internet_2020[\"Estrato\"].min()"
      ],
      "execution_count": null,
      "outputs": [
        {
          "output_type": "execute_result",
          "data": {
            "text/plain": [
              "0"
            ]
          },
          "metadata": {
            "tags": []
          },
          "execution_count": 6
        }
      ]
    },
    {
      "cell_type": "code",
      "metadata": {
        "colab": {
          "base_uri": "https://localhost:8080/"
        },
        "id": "C4e2bDOpDKZO",
        "outputId": "af4bd8c0-b41b-4d5c-c944-0c88ea1ef50d"
      },
      "source": [
        "#Estadisiticas descriptivas max hallar el maximo de la columna seleccionada\n",
        "\n",
        "base_internet_2020[\"Estrato\"].max()"
      ],
      "execution_count": null,
      "outputs": [
        {
          "output_type": "execute_result",
          "data": {
            "text/plain": [
              "6"
            ]
          },
          "metadata": {
            "tags": []
          },
          "execution_count": 7
        }
      ]
    },
    {
      "cell_type": "code",
      "metadata": {
        "colab": {
          "base_uri": "https://localhost:8080/"
        },
        "id": "ZY3ww8YbDOy6",
        "outputId": "3159fdc4-e3b8-4776-d873-0adfd709f1fb"
      },
      "source": [
        "#Estadisiticas descriptivas std hallar desviación estandar  de la columna seleccionada\n",
        "base_internet_2020[\"Estrato\"].std()"
      ],
      "execution_count": null,
      "outputs": [
        {
          "output_type": "execute_result",
          "data": {
            "text/plain": [
              "1.074285524787391"
            ]
          },
          "metadata": {
            "tags": []
          },
          "execution_count": 8
        }
      ]
    },
    {
      "cell_type": "code",
      "metadata": {
        "colab": {
          "base_uri": "https://localhost:8080/"
        },
        "id": "kpyRsGSZBx3j",
        "outputId": "6f60ab23-b401-4827-eafc-588edc31ea1f"
      },
      "source": [
        "#Estadisiticas descriptivas std hallar desviación estandar  de la columna seleccionada\n",
        "base_internet_2020[\"año de nacimiento\"].std()\n",
        "\n"
      ],
      "execution_count": null,
      "outputs": [
        {
          "output_type": "execute_result",
          "data": {
            "text/plain": [
              "21.310568721876624"
            ]
          },
          "metadata": {
            "tags": []
          },
          "execution_count": 9
        }
      ]
    },
    {
      "cell_type": "markdown",
      "metadata": {
        "id": "O1yeP4s0IUye"
      },
      "source": [
        "Validar como hacer para que me genere el mensaje de 1 si tiene internet 2 no tiene"
      ]
    },
    {
      "cell_type": "code",
      "metadata": {
        "colab": {
          "base_uri": "https://localhost:8080/"
        },
        "id": "aUXV6rG_DYgR",
        "outputId": "e4402c2a-afad-4a00-d123-c4575277d9f4"
      },
      "source": [
        "#Contar\n",
        "\"\"\"\n",
        "Hacer una consulta para identificar cuantas personas tienen internet o no, el numero 2 indican que no tienen internet,el 1 indica que si tienen internet.\n",
        "La consulta hace el conteo de la cantidad numeros \"1\" y \"2\" presentes en el archivo\"\n",
        "\"\"\"\n",
        "consulta=base_internet_2020[\"servicio internet\"].value_counts();\n",
        "print('La cantidad de personas con internet son:',consulta.values[1])\n",
        "print('La cantidad de personas que NO tienen internet son:',consulta.values[0])"
      ],
      "execution_count": null,
      "outputs": [
        {
          "output_type": "stream",
          "text": [
            "La cantidad de personas con internet son: 2906\n",
            "La cantidad de personas que NO tienen internet son: 10299\n"
          ],
          "name": "stdout"
        }
      ]
    },
    {
      "cell_type": "code",
      "metadata": {
        "colab": {
          "base_uri": "https://localhost:8080/"
        },
        "id": "59ZBhDhFhXnk",
        "outputId": "aa23b074-9b4f-4bbe-cc90-4858eda2cb95"
      },
      "source": [
        "#Contar\n",
        "\"\"\"\n",
        "Hacer una consulta para identificar la cantidad de personas por estrato\"\n",
        "\"\"\"\n",
        "consulta=base_internet_2020[\"Estrato\"].value_counts();\n",
        "print('La cantidad de personas de estrato 0:',consulta.values[3])\n",
        "print('La cantidad de personas de estrato 1:',consulta.values[0])\n",
        "print('La cantidad de personas de estrato 2:',consulta.values[1])\n",
        "print('La cantidad de personas de estrato 3:',consulta.values[2])\n",
        "print('La cantidad de personas de estrato 4:',consulta.values[4])\n",
        "print('La cantidad de personas de estrato 5:',consulta.values[5])\n",
        "print('La cantidad de personas de estrato 6:',consulta.values[6])"
      ],
      "execution_count": null,
      "outputs": [
        {
          "output_type": "stream",
          "text": [
            "La cantidad de personas de estrato 0: 1121\n",
            "La cantidad de personas de estrato 1: 6808\n",
            "La cantidad de personas de estrato 2: 2395\n",
            "La cantidad de personas de estrato 3: 2260\n",
            "La cantidad de personas de estrato 4: 375\n",
            "La cantidad de personas de estrato 5: 233\n",
            "La cantidad de personas de estrato 6: 13\n"
          ],
          "name": "stdout"
        }
      ]
    },
    {
      "cell_type": "code",
      "metadata": {
        "colab": {
          "base_uri": "https://localhost:8080/",
          "height": 472
        },
        "id": "qzHvTkzLH9qB",
        "outputId": "41b729b4-7ada-483b-c410-758e00030016"
      },
      "source": [
        "plt.rcdefaults()\n",
        "fig, ax = plt.subplots()\n",
        "\n",
        "performance=np.array([consulta.values[1],consulta.values[0]]);\n",
        "\n",
        "people = ('Personas Internet','Personas no Internet')\n",
        "y_pos = np.arange(len(people))\n",
        "error = np.random.rand(len(people))\n",
        "\n",
        "ax.barh(y_pos,performance,xerr=error, align='center')\n",
        "ax.set_yticks(y_pos)\n",
        "ax.set_yticklabels(people)\n",
        "ax.invert_yaxis()  # labels read top-to-bottom\n",
        "ax.set_xlabel('Cantidad de personas')\n",
        "ax.set_title('Internet Disponible en la población')\n",
        "\n",
        "plt.show()"
      ],
      "execution_count": null,
      "outputs": [
        {
          "output_type": "display_data",
          "data": {
            "image/png": "[encoded data removed]",
            "text/plain": [
              "<Figure size 640x480 with 1 Axes>"
            ]
          },
          "metadata": {
            "tags": []
          }
        }
      ]
    },
    {
      "cell_type": "code",
      "metadata": {
        "colab": {
          "base_uri": "https://localhost:8080/",
          "height": 419
        },
        "id": "BMB-N3xLId7j",
        "outputId": "e27b827d-9bd0-4865-b48f-f17f91bfb7d8"
      },
      "source": [
        "#Ordenar\n",
        "\"\"\"\n",
        "A partir de la columna seleccionada , realiza un ordenamiento de la base de datos en orden ascedente o descente(esto depende del parametro de ascending,puede ser True o False)\n",
        "\"\"\"\n",
        "base_internet_2020.sort_values(\"año de nacimiento\", ascending=True) "
      ],
      "execution_count": null,
      "outputs": [
        {
          "output_type": "execute_result",
          "data": {
            "text/html": [
              "<div>\n",
              "<style scoped>\n",
              "    .dataframe tbody tr th:only-of-type {\n",
              "        vertical-align: middle;\n",
              "    }\n",
              "\n",
              "    .dataframe tbody tr th {\n",
              "        vertical-align: top;\n",
              "    }\n",
              "\n",
              "    .dataframe thead th {\n",
              "        text-align: right;\n",
              "    }\n",
              "</style>\n",
              "<table border=\"1\" class=\"dataframe\">\n",
              "  <thead>\n",
              "    <tr style=\"text-align: right;\">\n",
              "      <th></th>\n",
              "      <th>DPTO</th>\n",
              "      <th>sexo</th>\n",
              "      <th>año de nacimiento</th>\n",
              "      <th>servicio internet</th>\n",
              "      <th>Estrato</th>\n",
              "    </tr>\n",
              "  </thead>\n",
              "  <tbody>\n",
              "    <tr>\n",
              "      <th>7938</th>\n",
              "      <td>11</td>\n",
              "      <td>2</td>\n",
              "      <td>1918</td>\n",
              "      <td>2</td>\n",
              "      <td>1</td>\n",
              "    </tr>\n",
              "    <tr>\n",
              "      <th>5184</th>\n",
              "      <td>11</td>\n",
              "      <td>2</td>\n",
              "      <td>1919</td>\n",
              "      <td>2</td>\n",
              "      <td>1</td>\n",
              "    </tr>\n",
              "    <tr>\n",
              "      <th>10121</th>\n",
              "      <td>11</td>\n",
              "      <td>1</td>\n",
              "      <td>1921</td>\n",
              "      <td>2</td>\n",
              "      <td>2</td>\n",
              "    </tr>\n",
              "    <tr>\n",
              "      <th>10188</th>\n",
              "      <td>11</td>\n",
              "      <td>2</td>\n",
              "      <td>1922</td>\n",
              "      <td>2</td>\n",
              "      <td>3</td>\n",
              "    </tr>\n",
              "    <tr>\n",
              "      <th>6013</th>\n",
              "      <td>11</td>\n",
              "      <td>1</td>\n",
              "      <td>1923</td>\n",
              "      <td>2</td>\n",
              "      <td>1</td>\n",
              "    </tr>\n",
              "    <tr>\n",
              "      <th>...</th>\n",
              "      <td>...</td>\n",
              "      <td>...</td>\n",
              "      <td>...</td>\n",
              "      <td>...</td>\n",
              "      <td>...</td>\n",
              "    </tr>\n",
              "    <tr>\n",
              "      <th>12985</th>\n",
              "      <td>11</td>\n",
              "      <td>2</td>\n",
              "      <td>2020</td>\n",
              "      <td>2</td>\n",
              "      <td>3</td>\n",
              "    </tr>\n",
              "    <tr>\n",
              "      <th>2788</th>\n",
              "      <td>11</td>\n",
              "      <td>1</td>\n",
              "      <td>2020</td>\n",
              "      <td>2</td>\n",
              "      <td>1</td>\n",
              "    </tr>\n",
              "    <tr>\n",
              "      <th>2779</th>\n",
              "      <td>11</td>\n",
              "      <td>2</td>\n",
              "      <td>2020</td>\n",
              "      <td>2</td>\n",
              "      <td>2</td>\n",
              "    </tr>\n",
              "    <tr>\n",
              "      <th>13127</th>\n",
              "      <td>11</td>\n",
              "      <td>2</td>\n",
              "      <td>2020</td>\n",
              "      <td>2</td>\n",
              "      <td>2</td>\n",
              "    </tr>\n",
              "    <tr>\n",
              "      <th>2854</th>\n",
              "      <td>11</td>\n",
              "      <td>1</td>\n",
              "      <td>2020</td>\n",
              "      <td>2</td>\n",
              "      <td>3</td>\n",
              "    </tr>\n",
              "  </tbody>\n",
              "</table>\n",
              "<p>13205 rows × 5 columns</p>\n",
              "</div>"
            ],
            "text/plain": [
              "       DPTO  sexo  año de nacimiento  servicio internet  Estrato\n",
              "7938     11     2               1918                  2        1\n",
              "5184     11     2               1919                  2        1\n",
              "10121    11     1               1921                  2        2\n",
              "10188    11     2               1922                  2        3\n",
              "6013     11     1               1923                  2        1\n",
              "...     ...   ...                ...                ...      ...\n",
              "12985    11     2               2020                  2        3\n",
              "2788     11     1               2020                  2        1\n",
              "2779     11     2               2020                  2        2\n",
              "13127    11     2               2020                  2        2\n",
              "2854     11     1               2020                  2        3\n",
              "\n",
              "[13205 rows x 5 columns]"
            ]
          },
          "metadata": {
            "tags": []
          },
          "execution_count": 12
        }
      ]
    },
    {
      "cell_type": "code",
      "metadata": {
        "colab": {
          "base_uri": "https://localhost:8080/",
          "height": 514
        },
        "id": "GNNpBj-qKNAU",
        "outputId": "2bfe237b-b374-46ec-8c1e-dac97bb8f1bf"
      },
      "source": [
        "#Ordenar\n",
        "\"\"\"\n",
        "Mostrar en pantalla los 15 primeros datos del dataset ordenado \n",
        "\"\"\"\n",
        "base_internet_2020.sort_values(\"año de nacimiento\", ascending=True).head(15) "
      ],
      "execution_count": null,
      "outputs": [
        {
          "output_type": "execute_result",
          "data": {
            "text/html": [
              "<div>\n",
              "<style scoped>\n",
              "    .dataframe tbody tr th:only-of-type {\n",
              "        vertical-align: middle;\n",
              "    }\n",
              "\n",
              "    .dataframe tbody tr th {\n",
              "        vertical-align: top;\n",
              "    }\n",
              "\n",
              "    .dataframe thead th {\n",
              "        text-align: right;\n",
              "    }\n",
              "</style>\n",
              "<table border=\"1\" class=\"dataframe\">\n",
              "  <thead>\n",
              "    <tr style=\"text-align: right;\">\n",
              "      <th></th>\n",
              "      <th>DPTO</th>\n",
              "      <th>sexo</th>\n",
              "      <th>año de nacimiento</th>\n",
              "      <th>servicio internet</th>\n",
              "      <th>Estrato</th>\n",
              "    </tr>\n",
              "  </thead>\n",
              "  <tbody>\n",
              "    <tr>\n",
              "      <th>7938</th>\n",
              "      <td>11</td>\n",
              "      <td>2</td>\n",
              "      <td>1918</td>\n",
              "      <td>2</td>\n",
              "      <td>1</td>\n",
              "    </tr>\n",
              "    <tr>\n",
              "      <th>5184</th>\n",
              "      <td>11</td>\n",
              "      <td>2</td>\n",
              "      <td>1919</td>\n",
              "      <td>2</td>\n",
              "      <td>1</td>\n",
              "    </tr>\n",
              "    <tr>\n",
              "      <th>10121</th>\n",
              "      <td>11</td>\n",
              "      <td>1</td>\n",
              "      <td>1921</td>\n",
              "      <td>2</td>\n",
              "      <td>2</td>\n",
              "    </tr>\n",
              "    <tr>\n",
              "      <th>10188</th>\n",
              "      <td>11</td>\n",
              "      <td>2</td>\n",
              "      <td>1922</td>\n",
              "      <td>2</td>\n",
              "      <td>3</td>\n",
              "    </tr>\n",
              "    <tr>\n",
              "      <th>6013</th>\n",
              "      <td>11</td>\n",
              "      <td>1</td>\n",
              "      <td>1923</td>\n",
              "      <td>2</td>\n",
              "      <td>1</td>\n",
              "    </tr>\n",
              "    <tr>\n",
              "      <th>9741</th>\n",
              "      <td>11</td>\n",
              "      <td>2</td>\n",
              "      <td>1923</td>\n",
              "      <td>2</td>\n",
              "      <td>2</td>\n",
              "    </tr>\n",
              "    <tr>\n",
              "      <th>4949</th>\n",
              "      <td>11</td>\n",
              "      <td>2</td>\n",
              "      <td>1923</td>\n",
              "      <td>2</td>\n",
              "      <td>0</td>\n",
              "    </tr>\n",
              "    <tr>\n",
              "      <th>9985</th>\n",
              "      <td>11</td>\n",
              "      <td>1</td>\n",
              "      <td>1924</td>\n",
              "      <td>2</td>\n",
              "      <td>2</td>\n",
              "    </tr>\n",
              "    <tr>\n",
              "      <th>9582</th>\n",
              "      <td>11</td>\n",
              "      <td>2</td>\n",
              "      <td>1925</td>\n",
              "      <td>2</td>\n",
              "      <td>1</td>\n",
              "    </tr>\n",
              "    <tr>\n",
              "      <th>4570</th>\n",
              "      <td>11</td>\n",
              "      <td>2</td>\n",
              "      <td>1926</td>\n",
              "      <td>2</td>\n",
              "      <td>1</td>\n",
              "    </tr>\n",
              "    <tr>\n",
              "      <th>5245</th>\n",
              "      <td>11</td>\n",
              "      <td>2</td>\n",
              "      <td>1926</td>\n",
              "      <td>2</td>\n",
              "      <td>0</td>\n",
              "    </tr>\n",
              "    <tr>\n",
              "      <th>8001</th>\n",
              "      <td>11</td>\n",
              "      <td>2</td>\n",
              "      <td>1926</td>\n",
              "      <td>2</td>\n",
              "      <td>2</td>\n",
              "    </tr>\n",
              "    <tr>\n",
              "      <th>11530</th>\n",
              "      <td>11</td>\n",
              "      <td>2</td>\n",
              "      <td>1926</td>\n",
              "      <td>2</td>\n",
              "      <td>1</td>\n",
              "    </tr>\n",
              "    <tr>\n",
              "      <th>11387</th>\n",
              "      <td>11</td>\n",
              "      <td>2</td>\n",
              "      <td>1927</td>\n",
              "      <td>2</td>\n",
              "      <td>1</td>\n",
              "    </tr>\n",
              "    <tr>\n",
              "      <th>9045</th>\n",
              "      <td>11</td>\n",
              "      <td>2</td>\n",
              "      <td>1928</td>\n",
              "      <td>2</td>\n",
              "      <td>1</td>\n",
              "    </tr>\n",
              "  </tbody>\n",
              "</table>\n",
              "</div>"
            ],
            "text/plain": [
              "       DPTO  sexo  año de nacimiento  servicio internet  Estrato\n",
              "7938     11     2               1918                  2        1\n",
              "5184     11     2               1919                  2        1\n",
              "10121    11     1               1921                  2        2\n",
              "10188    11     2               1922                  2        3\n",
              "6013     11     1               1923                  2        1\n",
              "9741     11     2               1923                  2        2\n",
              "4949     11     2               1923                  2        0\n",
              "9985     11     1               1924                  2        2\n",
              "9582     11     2               1925                  2        1\n",
              "4570     11     2               1926                  2        1\n",
              "5245     11     2               1926                  2        0\n",
              "8001     11     2               1926                  2        2\n",
              "11530    11     2               1926                  2        1\n",
              "11387    11     2               1927                  2        1\n",
              "9045     11     2               1928                  2        1"
            ]
          },
          "metadata": {
            "tags": []
          },
          "execution_count": 13
        }
      ]
    },
    {
      "cell_type": "code",
      "metadata": {
        "colab": {
          "base_uri": "https://localhost:8080/"
        },
        "id": "FeH_Jvirugwc",
        "outputId": "a3407d76-b26c-4cc7-c3fe-9bcd9de483f8"
      },
      "source": [
        "\"\"\"\n",
        "Filtrar por año de nacimiento la cantidad de personas que nacieron entre un rango de años \n",
        "\"\"\"\n",
        "cantpersonas=0;\n",
        "cantpersonas2=0;\n",
        "for i in range(0,len(base_internet_2020)):\n",
        "  \n",
        "    if(base_internet_2020.values[i][2]>=1918 and base_internet_2020.values[i][2]<=1950 ):\n",
        "        \n",
        "        cantpersonas=cantpersonas+1;  \n",
        "    else:\n",
        "\n",
        "      cantpersonas2=cantpersonas2+1;\n",
        "\n",
        "\n",
        "print('la cantidad de personas nacidas entre 1918 y 1950 son:',cantpersonas)\n",
        "\n",
        "print('la cantidad de personas nacidas de 1950 en adelante son:',cantpersonas2)"
      ],
      "execution_count": null,
      "outputs": [
        {
          "output_type": "stream",
          "text": [
            "la cantidad de personas nacidas entre 1918 y 1950 son: 1063\n",
            "la cantidad de personas nacidas de 1950 en adelante son: 12142\n"
          ],
          "name": "stdout"
        }
      ]
    },
    {
      "cell_type": "markdown",
      "metadata": {
        "id": "7aWPiaz-LarS"
      },
      "source": [
        "De cada estrato generar cuantos tienen internet:\n",
        "\n",
        "Se ceo una función que recibe como parametros el dataset extraido, luego recorre por cada fila de colmuna y estrato para identifcar las personas que tienen internet o no\n",
        "\n",
        "---\n",
        "\n"
      ]
    },
    {
      "cell_type": "code",
      "metadata": {
        "id": "ERh0912uL-Er"
      },
      "source": [
        "def personas_internet(base_datos):\n",
        "    \n",
        "    estratocerointernet=0;\n",
        "    estratoceronointernet=0;\n",
        "    \n",
        "    estratounointernet=0;\n",
        "    estratounonointernet=0;\n",
        "    \n",
        "    estratodosinternet=0;\n",
        "    estratodosnointernet=0;\n",
        "    \n",
        "    estratotresinternet=0;\n",
        "    estratotresnointernet=0;\n",
        "    \n",
        "    estratocuatrointernet=0;\n",
        "    estratocuatronointernet=0;\n",
        "    \n",
        "    estratoquintointernet=0;\n",
        "    estratoquintonointernet=0;\n",
        "    \n",
        "    estratoseisinternet=0;\n",
        "    estratoseisnointernet=0;  \n",
        "    \n",
        "    for i in range(0,len(base_datos)):\n",
        "        \n",
        "        if(base_datos.values[i][4]==0):\n",
        "            \n",
        "          if(base_datos.values[i][3]==2):\n",
        "              \n",
        "             estratocerointernet=estratocerointernet+1;\n",
        "          else:\n",
        "             estratoceronointernet=estratoceronointernet+1; \n",
        "              \n",
        "              \n",
        "        if(base_datos.values[i][4]==1): \n",
        "            \n",
        "          if(base_datos.values[i][3]==2):\n",
        "              \n",
        "             estratounointernet=estratounointernet+1;\n",
        "          else:\n",
        "             estratounonointernet=estratounonointernet+1; \n",
        "            \n",
        "        \n",
        "        if(base_datos.values[i][4]==2):\n",
        "            \n",
        "            \n",
        "         if(base_datos.values[i][3]==2):\n",
        "              \n",
        "             estratodosinternet=estratodosinternet+1;\n",
        "         else:\n",
        "             estratodosnointernet=estratodosnointernet+1;  \n",
        "            \n",
        "        if(base_datos.values[i][4]==3): \n",
        "            \n",
        "           if(base_datos.values[i][3]==2):\n",
        "              \n",
        "             estratotresinternet=estratotresinternet+1;\n",
        "           else:\n",
        "             estratotresnointernet=estratotresnointernet+1;    \n",
        "            \n",
        "        if(base_datos.values[i][4]==4):\n",
        "          \n",
        "           if(base_datos.values[i][3]==2):\n",
        "              \n",
        "             estratocuatrointernet=estratocuatrointernet+1;\n",
        "           else:\n",
        "             estratocuatronointernet=estratocuatronointernet+1;\n",
        "            \n",
        "            \n",
        "        if(base_datos.values[i][4]==5):\n",
        "            \n",
        "           if(base_datos.values[i][3]==2):\n",
        "              \n",
        "             estratoquintointernet=estratoquintointernet+1;\n",
        "           else:\n",
        "             estratoquintonointernet=estratoquintonointernet+1;  \n",
        "             \n",
        "             \n",
        "            \n",
        "        if(base_datos.values[i][4]==6): \n",
        "            \n",
        "            if(base_datos.values[i][3]==2):\n",
        "              \n",
        "             estratoseisinternet=estratoseisinternet+1;\n",
        "            else:\n",
        "             estratoseisnointernet=estratoseisnointernet+1;  \n",
        "    \n",
        "    return estratocerointernet,estratoceronointernet,estratounointernet,estratounonointernet,estratodosinternet,estratodosnointernet,estratotresinternet,estratotresnointernet,estratocuatrointernet,estratocuatronointernet,estratoquintointernet,estratoquintonointernet,estratoseisinternet,estratoseisnointernet;\n",
        "\n"
      ],
      "execution_count": null,
      "outputs": []
    },
    {
      "cell_type": "code",
      "metadata": {
        "id": "RO4TeG7UPINa",
        "colab": {
          "base_uri": "https://localhost:8080/"
        },
        "outputId": "71bd103b-4659-4fe5-f96c-300859d300e5"
      },
      "source": [
        "datareal=personas_internet(base_internet_2020)\n",
        "print(\"las personas de estrato 0 que no tiene internet son:\",datareal[0])\n",
        "print(\"las personas de estrato 0 que  tiene internet son:\",datareal[1])\n",
        "print(\"las personas de estrato 1 que no tiene internet son:\",datareal[2])\n",
        "print(\"las personas de estrato 1 que  tiene internet son:\",datareal[3])\n",
        "print(\"las personas de estrato 2 que no tiene internet son:\",datareal[4])\n",
        "print(\"las personas de estrato 2 que  tiene internet son:\",datareal[5])\n",
        "print(\"las personas de estrato 3 que no tiene internet son:\",datareal[6])\n",
        "print(\"las personas de estrato 3 que  tiene internet son:\",datareal[7])\n",
        "print(\"las personas de estrato 4 que no tiene internet son:\",datareal[8])\n",
        "print(\"las personas de estrato 4 que  tiene internet son:\",datareal[9])\n",
        "print(\"las personas de estrato 5 que no tiene internet son:\",datareal[10])\n",
        "print(\"las personas de estrato 5 que  tiene internet son:\",datareal[11])\n",
        "print(\"las personas de estrato 6 que no tiene internet son:\",datareal[12])\n",
        "print(\"las personas de estrato 6 que  tiene internet son:\",datareal[13])"
      ],
      "execution_count": null,
      "outputs": [
        {
          "output_type": "stream",
          "text": [
            "las personas de estrato 0 que no tiene internet son: 1101\n",
            "las personas de estrato 0 que  tiene internet son: 20\n",
            "las personas de estrato 1 que no tiene internet son: 6147\n",
            "las personas de estrato 1 que  tiene internet son: 661\n",
            "las personas de estrato 2 que no tiene internet son: 1916\n",
            "las personas de estrato 2 que  tiene internet son: 479\n",
            "las personas de estrato 3 que no tiene internet son: 1042\n",
            "las personas de estrato 3 que  tiene internet son: 1218\n",
            "las personas de estrato 4 que no tiene internet son: 46\n",
            "las personas de estrato 4 que  tiene internet son: 329\n",
            "las personas de estrato 5 que no tiene internet son: 40\n",
            "las personas de estrato 5 que  tiene internet son: 193\n",
            "las personas de estrato 6 que no tiene internet son: 7\n",
            "las personas de estrato 6 que  tiene internet son: 6\n"
          ],
          "name": "stdout"
        }
      ]
    },
    {
      "cell_type": "code",
      "metadata": {
        "id": "5_IEnTaWIQmw",
        "colab": {
          "base_uri": "https://localhost:8080/",
          "height": 487
        },
        "outputId": "0a40c677-32d4-4a0e-d7f6-292eb556cd87"
      },
      "source": [
        "labels = ['Cero','Uno', 'Dos', 'Tres', 'Cuatro', 'Cinco','Seis']\n",
        "internet=[datareal[1] ,datareal[3] ,datareal[5] ,datareal[7] ,datareal[9] ,datareal[11] ,datareal[13] ]\n",
        "nointernet=[datareal[0] ,datareal[2] ,datareal[4] ,datareal[6] ,datareal[8] ,datareal[10] ,datareal[12] ]\n",
        "\n",
        "x = np.arange(len(labels))  # the label locations\n",
        "width = 0.35  # the width of the bars\n",
        "\n",
        "fig, ax = plt.subplots()\n",
        "rects1 = ax.bar(x - width/2, internet, width, label='internet')\n",
        "rects2 = ax.bar(x + width/2, nointernet, width, label='no internet')\n",
        "\n",
        "# Add some text for labels, title and custom x-axis tick labels, etc.\n",
        "ax.set_ylabel('Cantidad de personas')\n",
        "ax.set_title('Internet Disponible en la población')\n",
        "ax.set_xticks(x)\n",
        "ax.set_xticklabels(labels)\n",
        "ax.legend()\n",
        "\n",
        "fig.tight_layout()\n",
        "\n",
        "plt.show()"
      ],
      "execution_count": null,
      "outputs": [
        {
          "output_type": "display_data",
          "data": {
            "image/png": "[encoded data removed]",
            "text/plain": [
              "<Figure size 640x480 with 1 Axes>"
            ]
          },
          "metadata": {
            "tags": []
          }
        }
      ]
    },
    {
      "cell_type": "code",
      "metadata": {
        "colab": {
          "base_uri": "https://localhost:8080/",
          "height": 487
        },
        "id": "BUyooGnzMCwD",
        "outputId": "d6ada5c8-ac0c-4056-9493-68fe203fc3e8"
      },
      "source": [
        "  mujeresinternet=0;\n",
        "  mujeresnointernet=0;\n",
        "  hombresinternet=0;\n",
        "  hombresnointernet=0;\n",
        "\n",
        "  for i in range(0,len(base_internet_2020)):\n",
        "      if(base_internet_2020.values[i][1]==1 and base_internet_2020.values[i][3]==2):\n",
        "         hombresnointernet=hombresnointernet+1;  \n",
        "      if(base_internet_2020.values[i][1]==1 and base_internet_2020.values[i][3]==1):\n",
        "         hombresinternet=hombresinternet+1;\n",
        "      if(base_internet_2020.values[i][1]==2 and base_internet_2020.values[i][3]==2):\n",
        "         mujeresnointernet=mujeresnointernet+1;  \n",
        "      if(base_internet_2020.values[i][1]==2 and base_internet_2020.values[i][3]==1):\n",
        "         mujeresinternet=mujeresinternet+1;\n",
        "\n",
        "labels = ['hombres','mujeres']\n",
        "internet=[hombresinternet, mujeresinternet]\n",
        "nointernet=[hombresnointernet, mujeresnointernet]\n",
        "\n",
        "x = np.arange(len(labels))  # the label locations\n",
        "width = 0.35  # the width of the bars\n",
        "\n",
        "fig, ax = plt.subplots()\n",
        "rects1 = ax.bar(x - width/2, internet, width, label='internet')\n",
        "rects2 = ax.bar(x + width/2, nointernet, width, label='no internet')\n",
        "\n",
        "# Add some text for labels, title and custom x-axis tick labels, etc.\n",
        "ax.set_ylabel('Cantidad de personas')\n",
        "ax.set_title('Internet Disponible en la población')\n",
        "ax.set_xticks(x)\n",
        "ax.set_xticklabels(labels)\n",
        "ax.legend()\n",
        "\n",
        "fig.tight_layout()\n",
        "\n",
        "plt.show()"
      ],
      "execution_count": null,
      "outputs": [
        {
          "output_type": "display_data",
          "data": {
            "image/png": "[encoded data removed]",
            "text/plain": [
              "<Figure size 640x480 with 1 Axes>"
            ]
          },
          "metadata": {
            "tags": []
          }
        }
      ]
    },
    {
      "cell_type": "code",
      "metadata": {
        "colab": {
          "base_uri": "https://localhost:8080/",
          "height": 487
        },
        "id": "kGL2sJvWQkQe",
        "outputId": "b701f1a2-374f-46bc-b6fa-4be4e294653a"
      },
      "source": [
        "rango1internet=0;\n",
        "rango1nointernet=0;\n",
        "rango2internet=0;\n",
        "rango2nointernet=0;\n",
        "rango3internet=0;\n",
        "rango3nointernet=0;\n",
        "rango4internet=0;\n",
        "rango4nointernet=0;\n",
        "for i in range(0,len(base_internet_2020)):\n",
        "\n",
        "      if(base_internet_2020.values[i][2]>=1918 and base_internet_2020.values[i][2]<=1948):\n",
        "\n",
        "          if(base_internet_2020.values[i][3]==2):\n",
        "             rango1internet=rango1internet+1;\n",
        "          if(base_internet_2020.values[i][3]==1):\n",
        "             rango1nointernet=rango1nointernet+1;\n",
        "      if(base_internet_2020.values[i][2]>=1948 and base_internet_2020.values[i][2]<=1968):\n",
        "\n",
        "           if(base_internet_2020.values[i][3]==2):\n",
        "             rango2internet=rango2internet+1;\n",
        "           if(base_internet_2020.values[i][3]==1):\n",
        "             rango2nointernet=rango2nointernet+1;\n",
        "\n",
        "      if(base_internet_2020.values[i][2]>=1968 and base_internet_2020.values[i][2]<=1988):\n",
        "\n",
        "           if(base_internet_2020.values[i][3]==2):\n",
        "             rango3internet=rango3internet+1;\n",
        "           if(base_internet_2020.values[i][3]==1):\n",
        "             rango3nointernet=rango3nointernet+1;\n",
        "\n",
        "      if(base_internet_2020.values[i][2]>=1988 and base_internet_2020.values[i][2]<=2008):\n",
        "\n",
        "           if(base_internet_2020.values[i][3]==2):\n",
        "             rango4internet=rango4internet+1;\n",
        "           if(base_internet_2020.values[i][3]==1):\n",
        "             rango4nointernet=rango4nointernet+1;\n",
        "\n",
        "labels = ['1918-1948','1948-1968','1968-1988','1988-2008']\n",
        "internet=[rango1internet,rango2internet,rango3internet,rango4internet]\n",
        "nointernet=[rango1nointernet,rango2nointernet,rango3nointernet,rango4nointernet]\n",
        "\n",
        "x = np.arange(len(labels))  # the label locations\n",
        "width = 0.35  # the width of the bars\n",
        "\n",
        "fig, ax = plt.subplots()\n",
        "rects1 = ax.bar(x - width/2, internet, width, label='no internet')\n",
        "rects2 = ax.bar(x + width/2, nointernet, width, label='internet')\n",
        "\n",
        "# Add some text for labels, title and custom x-axis tick labels, etc.\n",
        "ax.set_ylabel('Cantidad de personas')\n",
        "ax.set_title('Internet Disponible en la población en el siglo XX(Agrupado cada 20 años)')\n",
        "ax.set_xticks(x)\n",
        "ax.set_xticklabels(labels)\n",
        "ax.legend()\n",
        "\n",
        "fig.tight_layout()\n",
        "\n",
        "plt.show()"
      ],
      "execution_count": null,
      "outputs": [
        {
          "output_type": "display_data",
          "data": {
            "image/png": "[encoded data removed]",
            "text/plain": [
              "<Figure size 640x480 with 1 Axes>"
            ]
          },
          "metadata": {
            "tags": []
          }
        }
      ]
    },
    {
      "cell_type": "code",
      "metadata": {
        "colab": {
          "base_uri": "https://localhost:8080/",
          "height": 623
        },
        "id": "ZynmkMrSXw7k",
        "outputId": "2ae99614-0c48-4d0f-b1c9-37f5368f6196"
      },
      "source": [
        "\"\"\"\n",
        "Con la libreria Seaborn\n",
        "\"\"\"\n",
        "\n",
        "data = {'rango':['1918-1948','1948-1968','1968-1988','1918-2008'],\n",
        "        'internet':[rango1internet,rango2internet,rango3internet,rango4internet],\n",
        "        'no internet':[rango1nointernet,rango2nointernet,rango3nointernet,rango4nointernet],\n",
        "        }\n",
        "df = pd.DataFrame(data)\n",
        "df\n",
        "\n",
        "g = sns.catplot(\n",
        "    data=df , kind=\"bar\",\n",
        "    x=\"rango\", y=\"internet\",\n",
        "    ci=\"sd\", palette=\"dark\", alpha=.6, height=6\n",
        ")\n",
        "g.despine(left=True)\n",
        "g.set_axis_labels(\"\", \"Cantidad de Personas\")\n",
        "g.set_titles(\"Internet a traves de los años\")"
      ],
      "execution_count": null,
      "outputs": [
        {
          "output_type": "execute_result",
          "data": {
            "text/plain": [
              "<seaborn.axisgrid.FacetGrid at 0x7f64a63624d0>"
            ]
          },
          "metadata": {
            "tags": []
          },
          "execution_count": 56
        },
        {
          "output_type": "display_data",
          "data": {
            "image/png": "[encoded data removed]",
            "text/plain": [
              "<Figure size 600x600 with 1 Axes>"
            ]
          },
          "metadata": {
            "tags": []
          }
        }
      ]
    },
    {
      "cell_type": "code",
      "metadata": {
        "colab": {
          "base_uri": "https://localhost:8080/",
          "height": 624
        },
        "id": "SgKAwy2dfQAh",
        "outputId": "287bdafe-6674-4c5e-8bd6-82a0598c7b30"
      },
      "source": [
        "data = {'rango':['1918-1948','1948-1968','1968-1988','1918-2008'],\n",
        "        'internet':[rango1internet,rango2internet,rango3internet,rango4internet],\n",
        "        'no internet':[rango1nointernet,rango2nointernet,rango3nointernet,rango4nointernet],\n",
        "        }\n",
        "df = pd.DataFrame(data)\n",
        "df\n",
        "\n",
        "g = sns.catplot(\n",
        "    data=df , kind=\"bar\",\n",
        "    x=\"rango\", y=\"no internet\",\n",
        "    ci=\"sd\", palette=\"Spectral\", alpha=.6, height=6\n",
        ")\n",
        "g.despine(left=True)\n",
        "g.set_axis_labels(\"\", \"Cantidad de Personas\")\n",
        "g.set_titles(\"Internet a traves de los años\")"
      ],
      "execution_count": null,
      "outputs": [
        {
          "output_type": "execute_result",
          "data": {
            "text/plain": [
              "<seaborn.axisgrid.FacetGrid at 0x7f64a6469450>"
            ]
          },
          "metadata": {
            "tags": []
          },
          "execution_count": 62
        },
        {
          "output_type": "display_data",
          "data": {
            "image/png": "[encoded data removed]",
            "text/plain": [
              "<Figure size 600x600 with 1 Axes>"
            ]
          },
          "metadata": {
            "tags": []
          }
        }
      ]
    },
    {
      "cell_type": "markdown",
      "metadata": {
        "id": "X0Rf3sq7IQaC"
      },
      "source": [
        ""
      ]
    }
  ]
}